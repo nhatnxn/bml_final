{
 "cells": [
  {
   "cell_type": "markdown",
   "metadata": {
    "id": "D1rnYko6pNbJ"
   },
   "source": [
    "## 1. Khai báo thư viện\n",
    "\n"
   ]
  },
  {
   "cell_type": "code",
   "execution_count": null,
   "metadata": {
    "colab": {
     "base_uri": "https://localhost:8080/"
    },
    "id": "NfUKXj0Fx5EZ",
    "outputId": "3339a9b2-5c60-42e2-f986-aa6dc4d58a18"
   },
   "outputs": [
    {
     "name": "stdout",
     "output_type": "stream",
     "text": [
      "Mounted at /content/drive\n"
     ]
    }
   ],
   "source": [
    "from google.colab import drive\n",
    "drive.mount('/content/drive')"
   ]
  },
  {
   "cell_type": "code",
   "execution_count": null,
   "metadata": {
    "colab": {
     "base_uri": "https://localhost:8080/",
     "height": 1000
    },
    "id": "L4T4R-0geoY3",
    "outputId": "bb0694c3-78ab-4ffb-872e-87a43c1d1cad"
   },
   "outputs": [
    {
     "name": "stdout",
     "output_type": "stream",
     "text": [
      "Collecting pyvi\n",
      "\u001b[?25l  Downloading https://files.pythonhosted.org/packages/10/e1/0e5bc6b5e3327b9385d6e0f1b0a7c0404f28b74eb6db59a778515b30fd9c/pyvi-0.1-py2.py3-none-any.whl (8.5MB)\n",
      "\u001b[K     |████████████████████████████████| 8.5MB 11.1MB/s \n",
      "\u001b[?25hCollecting sklearn-crfsuite\n",
      "  Downloading https://files.pythonhosted.org/packages/25/74/5b7befa513482e6dee1f3dd68171a6c9dfc14c0eaa00f885ffeba54fe9b0/sklearn_crfsuite-0.3.6-py2.py3-none-any.whl\n",
      "Requirement already satisfied: scikit-learn in /usr/local/lib/python3.6/dist-packages (from pyvi) (0.24.0)\n",
      "Requirement already satisfied: tabulate in /usr/local/lib/python3.6/dist-packages (from sklearn-crfsuite->pyvi) (0.8.7)\n",
      "Requirement already satisfied: six in /usr/local/lib/python3.6/dist-packages (from sklearn-crfsuite->pyvi) (1.15.0)\n",
      "Collecting python-crfsuite>=0.8.3\n",
      "\u001b[?25l  Downloading https://files.pythonhosted.org/packages/95/99/869dde6dbf3e0d07a013c8eebfb0a3d30776334e0097f8432b631a9a3a19/python_crfsuite-0.9.7-cp36-cp36m-manylinux1_x86_64.whl (743kB)\n",
      "\u001b[K     |████████████████████████████████| 747kB 55.2MB/s \n",
      "\u001b[?25hRequirement already satisfied: tqdm>=2.0 in /usr/local/lib/python3.6/dist-packages (from sklearn-crfsuite->pyvi) (4.41.1)\n",
      "Requirement already satisfied: numpy>=1.13.3 in /usr/local/lib/python3.6/dist-packages (from scikit-learn->pyvi) (1.19.4)\n",
      "Requirement already satisfied: joblib>=0.11 in /usr/local/lib/python3.6/dist-packages (from scikit-learn->pyvi) (1.0.0)\n",
      "Requirement already satisfied: scipy>=0.19.1 in /usr/local/lib/python3.6/dist-packages (from scikit-learn->pyvi) (1.4.1)\n",
      "Requirement already satisfied: threadpoolctl>=2.0.0 in /usr/local/lib/python3.6/dist-packages (from scikit-learn->pyvi) (2.1.0)\n",
      "Installing collected packages: python-crfsuite, sklearn-crfsuite, pyvi\n",
      "Successfully installed python-crfsuite-0.9.7 pyvi-0.1 sklearn-crfsuite-0.3.6\n",
      "Collecting underthesea\n",
      "\u001b[?25l  Downloading https://files.pythonhosted.org/packages/15/53/50ab756869f23d2bd1b3978d6b1c17c650d90abd5928701e7bd65adb6986/underthesea-1.3.0-py3-none-any.whl (7.5MB)\n",
      "\u001b[K     |████████████████████████████████| 7.5MB 12.0MB/s \n",
      "\u001b[?25hRequirement already satisfied: PyYAML in /usr/local/lib/python3.6/dist-packages (from underthesea) (3.13)\n",
      "Requirement already satisfied: Click>=6.0 in /usr/local/lib/python3.6/dist-packages (from underthesea) (7.1.2)\n",
      "Collecting transformers<=3.5.1,>=3.5.0\n",
      "\u001b[?25l  Downloading https://files.pythonhosted.org/packages/3a/83/e74092e7f24a08d751aa59b37a9fc572b2e4af3918cb66f7766c3affb1b4/transformers-3.5.1-py3-none-any.whl (1.3MB)\n",
      "\u001b[K     |████████████████████████████████| 1.3MB 45.1MB/s \n",
      "\u001b[?25hCollecting scikit-learn<0.22,>=0.20\n",
      "\u001b[?25l  Downloading https://files.pythonhosted.org/packages/a0/c5/d2238762d780dde84a20b8c761f563fe882b88c5a5fb03c056547c442a19/scikit_learn-0.21.3-cp36-cp36m-manylinux1_x86_64.whl (6.7MB)\n",
      "\u001b[K     |████████████████████████████████| 6.7MB 53.8MB/s \n",
      "\u001b[?25hCollecting torch<=1.5.1,>=1.1.0\n",
      "\u001b[?25l  Downloading https://files.pythonhosted.org/packages/62/01/457b49d790b6c4b9720e6f9dbbb617692f6ce8afdaadf425c055c41a7416/torch-1.5.1-cp36-cp36m-manylinux1_x86_64.whl (753.2MB)\n",
      "\u001b[K     |████████████████████████████████| 753.2MB 23kB/s \n",
      "\u001b[?25hCollecting seqeval\n",
      "\u001b[?25l  Downloading https://files.pythonhosted.org/packages/9d/2d/233c79d5b4e5ab1dbf111242299153f3caddddbb691219f363ad55ce783d/seqeval-1.2.2.tar.gz (43kB)\n",
      "\u001b[K     |████████████████████████████████| 51kB 8.8MB/s \n",
      "\u001b[?25hRequirement already satisfied: tqdm in /usr/local/lib/python3.6/dist-packages (from underthesea) (4.41.1)\n",
      "Requirement already satisfied: joblib in /usr/local/lib/python3.6/dist-packages (from underthesea) (1.0.0)\n",
      "Requirement already satisfied: nltk in /usr/local/lib/python3.6/dist-packages (from underthesea) (3.2.5)\n",
      "Requirement already satisfied: requests in /usr/local/lib/python3.6/dist-packages (from underthesea) (2.23.0)\n",
      "Requirement already satisfied: python-crfsuite>=0.9.6 in /usr/local/lib/python3.6/dist-packages (from underthesea) (0.9.7)\n",
      "Collecting unidecode\n",
      "\u001b[?25l  Downloading https://files.pythonhosted.org/packages/74/65/91eab655041e9e92f948cb7302e54962035762ce7b518272ed9d6b269e93/Unidecode-1.1.2-py2.py3-none-any.whl (239kB)\n",
      "\u001b[K     |████████████████████████████████| 245kB 61.5MB/s \n",
      "\u001b[?25hRequirement already satisfied: regex!=2019.12.17 in /usr/local/lib/python3.6/dist-packages (from transformers<=3.5.1,>=3.5.0->underthesea) (2019.12.20)\n",
      "Collecting sacremoses\n",
      "\u001b[?25l  Downloading https://files.pythonhosted.org/packages/7d/34/09d19aff26edcc8eb2a01bed8e98f13a1537005d31e95233fd48216eed10/sacremoses-0.0.43.tar.gz (883kB)\n",
      "\u001b[K     |████████████████████████████████| 890kB 53.2MB/s \n",
      "\u001b[?25hCollecting sentencepiece==0.1.91\n",
      "\u001b[?25l  Downloading https://files.pythonhosted.org/packages/d4/a4/d0a884c4300004a78cca907a6ff9a5e9fe4f090f5d95ab341c53d28cbc58/sentencepiece-0.1.91-cp36-cp36m-manylinux1_x86_64.whl (1.1MB)\n",
      "\u001b[K     |████████████████████████████████| 1.1MB 42.2MB/s \n",
      "\u001b[?25hRequirement already satisfied: numpy in /usr/local/lib/python3.6/dist-packages (from transformers<=3.5.1,>=3.5.0->underthesea) (1.19.4)\n",
      "Requirement already satisfied: packaging in /usr/local/lib/python3.6/dist-packages (from transformers<=3.5.1,>=3.5.0->underthesea) (20.8)\n",
      "Collecting tokenizers==0.9.3\n",
      "\u001b[?25l  Downloading https://files.pythonhosted.org/packages/4c/34/b39eb9994bc3c999270b69c9eea40ecc6f0e97991dba28282b9fd32d44ee/tokenizers-0.9.3-cp36-cp36m-manylinux1_x86_64.whl (2.9MB)\n",
      "\u001b[K     |████████████████████████████████| 2.9MB 46.0MB/s \n",
      "\u001b[?25hRequirement already satisfied: protobuf in /usr/local/lib/python3.6/dist-packages (from transformers<=3.5.1,>=3.5.0->underthesea) (3.12.4)\n",
      "Requirement already satisfied: dataclasses; python_version < \"3.7\" in /usr/local/lib/python3.6/dist-packages (from transformers<=3.5.1,>=3.5.0->underthesea) (0.8)\n",
      "Requirement already satisfied: filelock in /usr/local/lib/python3.6/dist-packages (from transformers<=3.5.1,>=3.5.0->underthesea) (3.0.12)\n",
      "Requirement already satisfied: scipy>=0.17.0 in /usr/local/lib/python3.6/dist-packages (from scikit-learn<0.22,>=0.20->underthesea) (1.4.1)\n",
      "Requirement already satisfied: future in /usr/local/lib/python3.6/dist-packages (from torch<=1.5.1,>=1.1.0->underthesea) (0.16.0)\n",
      "Requirement already satisfied: six in /usr/local/lib/python3.6/dist-packages (from nltk->underthesea) (1.15.0)\n",
      "Requirement already satisfied: idna<3,>=2.5 in /usr/local/lib/python3.6/dist-packages (from requests->underthesea) (2.10)\n",
      "Requirement already satisfied: urllib3!=1.25.0,!=1.25.1,<1.26,>=1.21.1 in /usr/local/lib/python3.6/dist-packages (from requests->underthesea) (1.24.3)\n",
      "Requirement already satisfied: certifi>=2017.4.17 in /usr/local/lib/python3.6/dist-packages (from requests->underthesea) (2020.12.5)\n",
      "Requirement already satisfied: chardet<4,>=3.0.2 in /usr/local/lib/python3.6/dist-packages (from requests->underthesea) (3.0.4)\n",
      "Requirement already satisfied: pyparsing>=2.0.2 in /usr/local/lib/python3.6/dist-packages (from packaging->transformers<=3.5.1,>=3.5.0->underthesea) (2.4.7)\n",
      "Requirement already satisfied: setuptools in /usr/local/lib/python3.6/dist-packages (from protobuf->transformers<=3.5.1,>=3.5.0->underthesea) (51.0.0)\n",
      "Building wheels for collected packages: seqeval, sacremoses\n",
      "  Building wheel for seqeval (setup.py) ... \u001b[?25l\u001b[?25hdone\n",
      "  Created wheel for seqeval: filename=seqeval-1.2.2-cp36-none-any.whl size=16171 sha256=553350e6eb19d2023c45f8191dca5f9a0ed0b523d888e940d5fad7b1febe036d\n",
      "  Stored in directory: /root/.cache/pip/wheels/52/df/1b/45d75646c37428f7e626214704a0e35bd3cfc32eda37e59e5f\n",
      "  Building wheel for sacremoses (setup.py) ... \u001b[?25l\u001b[?25hdone\n",
      "  Created wheel for sacremoses: filename=sacremoses-0.0.43-cp36-none-any.whl size=893261 sha256=e92c31a1fe59784d6254846300404fc08cce02b595b4950b173a81df1f9724c8\n",
      "  Stored in directory: /root/.cache/pip/wheels/29/3c/fd/7ce5c3f0666dab31a50123635e6fb5e19ceb42ce38d4e58f45\n",
      "Successfully built seqeval sacremoses\n",
      "\u001b[31mERROR: torchvision 0.8.1+cu101 has requirement torch==1.7.0, but you'll have torch 1.5.1 which is incompatible.\u001b[0m\n",
      "Installing collected packages: sacremoses, sentencepiece, tokenizers, transformers, scikit-learn, torch, seqeval, unidecode, underthesea\n",
      "  Found existing installation: scikit-learn 0.24.0\n",
      "    Uninstalling scikit-learn-0.24.0:\n",
      "      Successfully uninstalled scikit-learn-0.24.0\n",
      "  Found existing installation: torch 1.7.0+cu101\n",
      "    Uninstalling torch-1.7.0+cu101:\n",
      "      Successfully uninstalled torch-1.7.0+cu101\n",
      "Successfully installed sacremoses-0.0.43 scikit-learn-0.21.3 sentencepiece-0.1.91 seqeval-1.2.2 tokenizers-0.9.3 torch-1.5.1 transformers-3.5.1 underthesea-1.3.0 unidecode-1.1.2\n"
     ]
    },
    {
     "data": {
      "application/vnd.colab-display-data+json": {
       "pip_warning": {
        "packages": [
         "sklearn"
        ]
       }
      }
     },
     "metadata": {
      "tags": []
     },
     "output_type": "display_data"
    },
    {
     "name": "stdout",
     "output_type": "stream",
     "text": [
      "Requirement already satisfied: unidecode in /usr/local/lib/python3.6/dist-packages (1.1.2)\n",
      "Collecting plotly\n",
      "\u001b[?25l  Downloading https://files.pythonhosted.org/packages/c9/09/315462259ab7b60a3d4b7159233ed700733c87d889755bdc00a9fb46d692/plotly-4.14.1-py2.py3-none-any.whl (13.2MB)\n",
      "\u001b[K     |████████████████████████████████| 13.2MB 253kB/s \n",
      "\u001b[?25hRequirement already satisfied, skipping upgrade: six in /usr/local/lib/python3.6/dist-packages (from plotly) (1.15.0)\n",
      "Requirement already satisfied, skipping upgrade: retrying>=1.3.3 in /usr/local/lib/python3.6/dist-packages (from plotly) (1.3.3)\n",
      "Installing collected packages: plotly\n",
      "  Found existing installation: plotly 4.4.1\n",
      "    Uninstalling plotly-4.4.1:\n",
      "      Successfully uninstalled plotly-4.4.1\n",
      "Successfully installed plotly-4.14.1\n"
     ]
    }
   ],
   "source": [
    "!pip install pyvi\n",
    "!pip install underthesea\n",
    "!pip install unidecode\n",
    "!pip install plotly --upgrade"
   ]
  },
  {
   "cell_type": "code",
   "execution_count": null,
   "metadata": {
    "id": "ASY6TxO6nazv"
   },
   "outputs": [],
   "source": [
    "# import các thư viện cần thiết\n",
    "import pandas as pd\n",
    "import numpy as np\n",
    "from pyvi import ViTokenizer\n",
    "import seaborn as sns\n",
    "import matplotlib.pyplot as plt\n",
    "import re\n",
    "from sklearn.base import BaseEstimator, TransformerMixin\n",
    "\n",
    "import sys\n",
    "sys.path.append(\"/content/drive/MyDrive/\")"
   ]
  },
  {
   "cell_type": "markdown",
   "metadata": {
    "id": "wTTQkXnGpSsU"
   },
   "source": [
    "## 2. Load dữ liệu"
   ]
  },
  {
   "cell_type": "code",
   "execution_count": null,
   "metadata": {
    "colab": {
     "base_uri": "https://localhost:8080/",
     "height": 199
    },
    "id": "04YH8PTXofjh",
    "outputId": "d4ab1f3d-b3cc-424a-8b72-7463cd4c5dd5"
   },
   "outputs": [
    {
     "data": {
      "text/html": [
       "<div>\n",
       "<style scoped>\n",
       "    .dataframe tbody tr th:only-of-type {\n",
       "        vertical-align: middle;\n",
       "    }\n",
       "\n",
       "    .dataframe tbody tr th {\n",
       "        vertical-align: top;\n",
       "    }\n",
       "\n",
       "    .dataframe thead th {\n",
       "        text-align: right;\n",
       "    }\n",
       "</style>\n",
       "<table border=\"1\" class=\"dataframe\">\n",
       "  <thead>\n",
       "    <tr style=\"text-align: right;\">\n",
       "      <th></th>\n",
       "      <th>comment</th>\n",
       "      <th>label</th>\n",
       "      <th>rate</th>\n",
       "      <th>Unnamed: 3</th>\n",
       "    </tr>\n",
       "  </thead>\n",
       "  <tbody>\n",
       "    <tr>\n",
       "      <th>0</th>\n",
       "      <td>Áo bao đẹp ạ!!</td>\n",
       "      <td>POS</td>\n",
       "      <td>5</td>\n",
       "      <td>NaN</td>\n",
       "    </tr>\n",
       "    <tr>\n",
       "      <th>1</th>\n",
       "      <td>Tuyệt vời !</td>\n",
       "      <td>POS</td>\n",
       "      <td>5</td>\n",
       "      <td>NaN</td>\n",
       "    </tr>\n",
       "    <tr>\n",
       "      <th>2</th>\n",
       "      <td>2day ao khong giong trong.</td>\n",
       "      <td>NEG</td>\n",
       "      <td>1</td>\n",
       "      <td>NaN</td>\n",
       "    </tr>\n",
       "    <tr>\n",
       "      <th>3</th>\n",
       "      <td>Mùi thơm,bôi lên da mềm da.</td>\n",
       "      <td>POS</td>\n",
       "      <td>5</td>\n",
       "      <td>NaN</td>\n",
       "    </tr>\n",
       "    <tr>\n",
       "      <th>4</th>\n",
       "      <td>Vải đẹp, dày dặn.</td>\n",
       "      <td>POS</td>\n",
       "      <td>5</td>\n",
       "      <td>NaN</td>\n",
       "    </tr>\n",
       "  </tbody>\n",
       "</table>\n",
       "</div>"
      ],
      "text/plain": [
       "                       comment label  rate Unnamed: 3\n",
       "0               Áo bao đẹp ạ!!   POS     5        NaN\n",
       "1                  Tuyệt vời !   POS     5        NaN\n",
       "2   2day ao khong giong trong.   NEG     1        NaN\n",
       "3  Mùi thơm,bôi lên da mềm da.   POS     5        NaN\n",
       "4            Vải đẹp, dày dặn.   POS     5        NaN"
      ]
     },
     "execution_count": 8,
     "metadata": {
      "tags": []
     },
     "output_type": "execute_result"
    }
   ],
   "source": [
    "# load dữ liệu\n",
    "df = pd.read_csv('/content/drive/MyDrive/BML/data.csv')\n",
    "df.head()"
   ]
  },
  {
   "cell_type": "code",
   "execution_count": null,
   "metadata": {
    "id": "0aVLk3GdcI--"
   },
   "outputs": [],
   "source": [
    "df=df.drop(['Unnamed: 3'],axis=1)"
   ]
  },
  {
   "cell_type": "code",
   "execution_count": null,
   "metadata": {
    "colab": {
     "base_uri": "https://localhost:8080/",
     "height": 290
    },
    "id": "asLycLy2vtDl",
    "outputId": "eda01a49-bb31-4fb8-bb49-b5807fb890a7"
   },
   "outputs": [
    {
     "data": {
      "text/html": [
       "<div>\n",
       "<style scoped>\n",
       "    .dataframe tbody tr th:only-of-type {\n",
       "        vertical-align: middle;\n",
       "    }\n",
       "\n",
       "    .dataframe tbody tr th {\n",
       "        vertical-align: top;\n",
       "    }\n",
       "\n",
       "    .dataframe thead th {\n",
       "        text-align: right;\n",
       "    }\n",
       "</style>\n",
       "<table border=\"1\" class=\"dataframe\">\n",
       "  <thead>\n",
       "    <tr style=\"text-align: right;\">\n",
       "      <th></th>\n",
       "      <th>rate</th>\n",
       "    </tr>\n",
       "  </thead>\n",
       "  <tbody>\n",
       "    <tr>\n",
       "      <th>count</th>\n",
       "      <td>31460.000000</td>\n",
       "    </tr>\n",
       "    <tr>\n",
       "      <th>mean</th>\n",
       "      <td>3.736840</td>\n",
       "    </tr>\n",
       "    <tr>\n",
       "      <th>std</th>\n",
       "      <td>1.382483</td>\n",
       "    </tr>\n",
       "    <tr>\n",
       "      <th>min</th>\n",
       "      <td>1.000000</td>\n",
       "    </tr>\n",
       "    <tr>\n",
       "      <th>25%</th>\n",
       "      <td>3.000000</td>\n",
       "    </tr>\n",
       "    <tr>\n",
       "      <th>50%</th>\n",
       "      <td>4.000000</td>\n",
       "    </tr>\n",
       "    <tr>\n",
       "      <th>75%</th>\n",
       "      <td>5.000000</td>\n",
       "    </tr>\n",
       "    <tr>\n",
       "      <th>max</th>\n",
       "      <td>5.000000</td>\n",
       "    </tr>\n",
       "  </tbody>\n",
       "</table>\n",
       "</div>"
      ],
      "text/plain": [
       "               rate\n",
       "count  31460.000000\n",
       "mean       3.736840\n",
       "std        1.382483\n",
       "min        1.000000\n",
       "25%        3.000000\n",
       "50%        4.000000\n",
       "75%        5.000000\n",
       "max        5.000000"
      ]
     },
     "execution_count": 10,
     "metadata": {
      "tags": []
     },
     "output_type": "execute_result"
    }
   ],
   "source": [
    "df.describe()"
   ]
  },
  {
   "cell_type": "code",
   "execution_count": null,
   "metadata": {
    "id": "t4nxJGHUkM2t"
   },
   "outputs": [],
   "source": []
  },
  {
   "cell_type": "code",
   "execution_count": null,
   "metadata": {
    "colab": {
     "base_uri": "https://localhost:8080/"
    },
    "id": "rJTxlhoXtjrK",
    "outputId": "7a0d6178-8771-4ac6-dd13-058351ea5e7f"
   },
   "outputs": [
    {
     "name": "stdout",
     "output_type": "stream",
     "text": [
      "<class 'pandas.core.frame.DataFrame'>\n",
      "RangeIndex: 31460 entries, 0 to 31459\n",
      "Data columns (total 3 columns):\n",
      " #   Column   Non-Null Count  Dtype \n",
      "---  ------   --------------  ----- \n",
      " 0   comment  31460 non-null  object\n",
      " 1   label    31460 non-null  object\n",
      " 2   rate     31460 non-null  int64 \n",
      "dtypes: int64(1), object(2)\n",
      "memory usage: 737.5+ KB\n"
     ]
    }
   ],
   "source": [
    "# Tổng quan về dữ liệu\n",
    "df.info()"
   ]
  },
  {
   "cell_type": "code",
   "execution_count": null,
   "metadata": {
    "colab": {
     "base_uri": "https://localhost:8080/"
    },
    "id": "CLTyqDaAtnwy",
    "outputId": "fe31c928-a20e-474a-c76f-c9aa94271f41"
   },
   "outputs": [
    {
     "data": {
      "text/plain": [
       "comment    0\n",
       "label      0\n",
       "rate       0\n",
       "dtype: int64"
      ]
     },
     "execution_count": 12,
     "metadata": {
      "tags": []
     },
     "output_type": "execute_result"
    }
   ],
   "source": [
    "# Kiểm tra các bản ghi có rỗng hay không\n",
    "df.isnull().sum()"
   ]
  },
  {
   "cell_type": "markdown",
   "metadata": {
    "id": "SQGPIvR-pXB9"
   },
   "source": [
    "## 3. Phân tích dữ liệu"
   ]
  },
  {
   "cell_type": "code",
   "execution_count": null,
   "metadata": {
    "id": "SpPWD7J3txZ4"
   },
   "outputs": [],
   "source": [
    "# Phân bố label\n",
    "def label_count(df,name):\n",
    "    label = df[name].unique()\n",
    "    count = df[name].value_counts(sort=True)\n",
    "    sns.set()\n",
    "    print(count)\n",
    "    chart = sns.barplot(count.index, count, palette='husl')\n",
    "    plt.savefig('/content/drive/MyDrive/BML/images/phan_bo_' + name + '.png')\n",
    "    plt.show()\n",
    "    \n"
   ]
  },
  {
   "cell_type": "code",
   "execution_count": null,
   "metadata": {
    "colab": {
     "base_uri": "https://localhost:8080/",
     "height": 393
    },
    "id": "59_pscLoO3sv",
    "outputId": "d93a266a-8b22-4725-82b5-4c4e133afdc0"
   },
   "outputs": [
    {
     "name": "stdout",
     "output_type": "stream",
     "text": [
      "POS    20093\n",
      "NEG     6669\n",
      "NEU     4698\n",
      "Name: label, dtype: int64\n"
     ]
    },
    {
     "name": "stderr",
     "output_type": "stream",
     "text": [
      "/usr/local/lib/python3.6/dist-packages/seaborn/_decorators.py:43: FutureWarning: Pass the following variables as keyword args: x, y. From version 0.12, the only valid positional argument will be `data`, and passing other arguments without an explicit keyword will result in an error or misinterpretation.\n",
      "  FutureWarning\n"
     ]
    },
    {
     "data": {
      "image/png": "[encoded data removed]",
      "text/plain": [
       "<Figure size 432x288 with 1 Axes>"
      ]
     },
     "metadata": {
      "tags": []
     },
     "output_type": "display_data"
    }
   ],
   "source": [
    "label_count(df,'label')"
   ]
  },
  {
   "cell_type": "code",
   "execution_count": null,
   "metadata": {
    "colab": {
     "base_uri": "https://localhost:8080/",
     "height": 428
    },
    "id": "qIkJOOLsvzKb",
    "outputId": "b97a041e-d2f5-4b98-c325-fb59041b6f08"
   },
   "outputs": [
    {
     "name": "stdout",
     "output_type": "stream",
     "text": [
      "5    13286\n",
      "4     6807\n",
      "3     4698\n",
      "1     3529\n",
      "2     3140\n",
      "Name: rate, dtype: int64\n"
     ]
    },
    {
     "name": "stderr",
     "output_type": "stream",
     "text": [
      "/usr/local/lib/python3.6/dist-packages/seaborn/_decorators.py:43: FutureWarning: Pass the following variables as keyword args: x, y. From version 0.12, the only valid positional argument will be `data`, and passing other arguments without an explicit keyword will result in an error or misinterpretation.\n",
      "  FutureWarning\n"
     ]
    },
    {
     "data": {
      "image/png": "[encoded data removed]",
      "text/plain": [
       "<Figure size 432x288 with 1 Axes>"
      ]
     },
     "metadata": {
      "tags": []
     },
     "output_type": "display_data"
    }
   ],
   "source": [
    "# Phân bố rate\n",
    "label_count(df, 'rate')"
   ]
  },
  {
   "cell_type": "code",
   "execution_count": null,
   "metadata": {
    "colab": {
     "base_uri": "https://localhost:8080/",
     "height": 435
    },
    "id": "i_5JHQ5JuGrm",
    "outputId": "03a611c0-c859-429b-e904-d5648f35e4c5"
   },
   "outputs": [
    {
     "data": {
      "text/plain": [
       "<Figure size 1440x720 with 0 Axes>"
      ]
     },
     "metadata": {
      "tags": []
     },
     "output_type": "display_data"
    },
    {
     "data": {
      "image/png": "[encoded data removed]",
      "text/plain": [
       "<Figure size 360x360 with 1 Axes>"
      ]
     },
     "metadata": {
      "tags": []
     },
     "output_type": "display_data"
    },
    {
     "name": "stdout",
     "output_type": "stream",
     "text": [
      "Min sentence: 1\n",
      "Max sentence: 304\n",
      "Mean: 44.91179275270184\n"
     ]
    }
   ],
   "source": [
    "# Thống kê chiều dài của mỗi câu theo ký tự\n",
    "df['char_length'] = df['comment'].apply(lambda x: len(str(x)))\n",
    "plt.figure(figsize=(20,10))\n",
    "sns.set(palette=['orange'])\n",
    "# df['char_length'].hist(bins=50)\n",
    "sns.displot(data=df['char_length'])\n",
    "plt.savefig('/content/drive/MyDrive/BML/images/phan_bo_chieu_dai_cau_theo_ky_tu.png')\n",
    "plt.show()\n",
    "print(\"Min sentence:\", df['char_length'].min())\n",
    "print(\"Max sentence:\", df['char_length'].max())\n",
    "print(\"Mean:\", df['char_length'].mean())"
   ]
  },
  {
   "cell_type": "code",
   "execution_count": null,
   "metadata": {
    "colab": {
     "base_uri": "https://localhost:8080/",
     "height": 320
    },
    "id": "tnZugVk1nsxa",
    "outputId": "bb9691cb-1987-4e5b-e4e5-4d564dc5a11a"
   },
   "outputs": [
    {
     "data": {
      "image/png": "[encoded data removed]",
      "text/plain": [
       "<Figure size 432x288 with 1 Axes>"
      ]
     },
     "metadata": {
      "tags": []
     },
     "output_type": "display_data"
    },
    {
     "name": "stdout",
     "output_type": "stream",
     "text": [
      "Min sentence: 1\n",
      "Max sentence: 74\n",
      "Mean: 10.220629370629371\n"
     ]
    }
   ],
   "source": [
    "# Thống kê chiều dài của mỗi câu theo từ (tách theo khoảng trắng)\n",
    "df['word_length'] = df['comment'].apply(lambda x: len(x.split()))\n",
    "sns.set(palette=['orange'])\n",
    "df['word_length'].hist(bins=50)\n",
    "plt.savefig('/content/drive/MyDrive/BML/images/phan_bo_chieu_dai_cau_theo_tu.png')\n",
    "plt.show()\n",
    "print(\"Min sentence:\", df['word_length'].min())\n",
    "print(\"Max sentence:\", df['word_length'].max())\n",
    "print(\"Mean:\", df['word_length'].mean())"
   ]
  },
  {
   "cell_type": "markdown",
   "metadata": {
    "id": "UaA85JY3Qlmz"
   },
   "source": [
    "## Thống kê sau khi tiền xử lý dữ liệu"
   ]
  },
  {
   "cell_type": "code",
   "execution_count": null,
   "metadata": {
    "colab": {
     "base_uri": "https://localhost:8080/"
    },
    "id": "hGSrzaqiQj-Q",
    "outputId": "d315340f-9353-4ccd-debc-024599fc46f8"
   },
   "outputs": [
    {
     "data": {
      "text/plain": [
       "(30679, 3)"
      ]
     },
     "execution_count": 109,
     "metadata": {
      "tags": []
     },
     "output_type": "execute_result"
    }
   ],
   "source": [
    "train_df = pd.read_csv('/content/drive/MyDrive/BML/train.csv')\n",
    "test_df = pd.read_csv('/content/drive/MyDrive/BML/test.csv')\n",
    "eval_df = pd.read_csv('/content/drive/MyDrive/BML/eval.csv')\n",
    "merge_df = pd.concat([train_df, test_df, eval_df], axis=0)\n",
    "merge_df.shape"
   ]
  },
  {
   "cell_type": "code",
   "execution_count": null,
   "metadata": {
    "colab": {
     "base_uri": "https://localhost:8080/",
     "height": 393
    },
    "id": "32QBt0ysQkBM",
    "outputId": "655f0447-072f-482f-8ced-790575d5c370"
   },
   "outputs": [
    {
     "name": "stdout",
     "output_type": "stream",
     "text": [
      "POS    19615\n",
      "NEG     6528\n",
      "NEU     4536\n",
      "Name: label, dtype: int64\n"
     ]
    },
    {
     "name": "stderr",
     "output_type": "stream",
     "text": [
      "/usr/local/lib/python3.6/dist-packages/seaborn/_decorators.py:43: FutureWarning: Pass the following variables as keyword args: x, y. From version 0.12, the only valid positional argument will be `data`, and passing other arguments without an explicit keyword will result in an error or misinterpretation.\n",
      "  FutureWarning\n"
     ]
    },
    {
     "data": {
      "image/png": "[encoded data removed]",
      "text/plain": [
       "<Figure size 432x288 with 1 Axes>"
      ]
     },
     "metadata": {
      "tags": []
     },
     "output_type": "display_data"
    }
   ],
   "source": [
    "label_count(merge_df, 'label')"
   ]
  },
  {
   "cell_type": "code",
   "execution_count": null,
   "metadata": {
    "colab": {
     "base_uri": "https://localhost:8080/",
     "height": 428
    },
    "id": "JIJQv8P1SCWS",
    "outputId": "0b19dccf-b3bf-4ee6-a2f3-4df4b734dd8a"
   },
   "outputs": [
    {
     "name": "stdout",
     "output_type": "stream",
     "text": [
      "5    12972\n",
      "4     6643\n",
      "3     4536\n",
      "1     3438\n",
      "2     3090\n",
      "Name: rate, dtype: int64\n"
     ]
    },
    {
     "name": "stderr",
     "output_type": "stream",
     "text": [
      "/usr/local/lib/python3.6/dist-packages/seaborn/_decorators.py:43: FutureWarning: Pass the following variables as keyword args: x, y. From version 0.12, the only valid positional argument will be `data`, and passing other arguments without an explicit keyword will result in an error or misinterpretation.\n",
      "  FutureWarning\n"
     ]
    },
    {
     "data": {
      "image/png": "[encoded data removed]",
      "text/plain": [
       "<Figure size 432x288 with 1 Axes>"
      ]
     },
     "metadata": {
      "tags": []
     },
     "output_type": "display_data"
    }
   ],
   "source": [
    "label_count(merge_df, 'rate')"
   ]
  },
  {
   "cell_type": "code",
   "execution_count": null,
   "metadata": {
    "colab": {
     "base_uri": "https://localhost:8080/",
     "height": 320
    },
    "id": "Yj93TfKFQh-J",
    "outputId": "2450ec45-22af-4ae5-9c4f-4cdaf849586c"
   },
   "outputs": [
    {
     "data": {
      "image/png": "[encoded data removed]",
      "text/plain": [
       "<Figure size 432x288 with 1 Axes>"
      ]
     },
     "metadata": {
      "tags": []
     },
     "output_type": "display_data"
    },
    {
     "name": "stdout",
     "output_type": "stream",
     "text": [
      "Min sentence: 5\n",
      "Max sentence: 378\n",
      "Mean: 49.330356269761076\n"
     ]
    }
   ],
   "source": [
    "# Thống kê chiều dài của mỗi câu theo ký tự\n",
    "merge_df['char_length'] = merge_df['comment'].apply(lambda x: len(str(x)))\n",
    "sns.set(palette=['orange'])\n",
    "merge_df['char_length'].hist(bins=50)\n",
    "plt.savefig('/content/drive/MyDrive/BML/images/phan_bo_chieu_dai_cau_theo_ky_tu1.png')\n",
    "plt.show()\n",
    "print(\"Min sentence:\", merge_df['char_length'].min())\n",
    "print(\"Max sentence:\", merge_df['char_length'].max())\n",
    "print('Mean:', merge_df['char_length'].mean())"
   ]
  },
  {
   "cell_type": "code",
   "execution_count": null,
   "metadata": {
    "colab": {
     "base_uri": "https://localhost:8080/",
     "height": 320
    },
    "id": "oTn71sxX9uRf",
    "outputId": "3e15a679-4301-4deb-eaf0-cb8c89272ccc"
   },
   "outputs": [
    {
     "data": {
      "image/png": "[encoded data removed]",
      "text/plain": [
       "<Figure size 432x288 with 1 Axes>"
      ]
     },
     "metadata": {
      "tags": []
     },
     "output_type": "display_data"
    },
    {
     "name": "stdout",
     "output_type": "stream",
     "text": [
      "Min sentence: 2\n",
      "Max sentence: 84\n",
      "Mean: 10.678183773917011\n"
     ]
    }
   ],
   "source": [
    "# Thống kê chiều dài của mỗi câu theo từ (tách theo khoảng trắng)\n",
    "merge_df['word_length'] = merge_df['comment'].apply(lambda x: len(x.split()))\n",
    "sns.set(palette=['orange'])\n",
    "merge_df['word_length'].hist(bins=50)\n",
    "plt.savefig('/content/drive/MyDrive/BML/images/phan_bo_chieu_dai_cau_theo_tu1.png')\n",
    "plt.show()\n",
    "print(\"Min sentence:\", merge_df['word_length'].min())\n",
    "print(\"Max sentence:\", merge_df['word_length'].max())\n",
    "print('Mean:', merge_df['word_length'].mean())"
   ]
  },
  {
   "cell_type": "code",
   "execution_count": null,
   "metadata": {
    "id": "H6Hzg8f-W_OV"
   },
   "outputs": [],
   "source": [
    "# Tách từ tiếng việt\n",
    "def tokenize_vn(s):\n",
    "  return ViTokenizer.tokenize(s)"
   ]
  },
  {
   "cell_type": "code",
   "execution_count": null,
   "metadata": {
    "id": "c2tkbjz4XK4S"
   },
   "outputs": [],
   "source": [
    "def remove_stop_words(s, stop_words):\n",
    "  s = s.split()\n",
    "  res = []\n",
    "  for i in s:\n",
    "    if i not in stop_words:\n",
    "      res.append(i)\n",
    "  return ' '.join(res)"
   ]
  },
  {
   "cell_type": "code",
   "execution_count": null,
   "metadata": {
    "id": "OJrSdF8HnXQC"
   },
   "outputs": [],
   "source": []
  },
  {
   "cell_type": "code",
   "execution_count": null,
   "metadata": {
    "id": "S2XS2pfaWmkL"
   },
   "outputs": [],
   "source": [
    "# Thống kê top 30 từ thông dụng khi chưa remove stop-word\n",
    "def top_n_popular_words(sentences):\n",
    "  res = []\n",
    "  for s in sentences:\n",
    "    s = tokenize_vn(s).split()\n",
    "    for i in s:\n",
    "      res.append(i)\n",
    "  res = pd.DataFrame(res)\n",
    "  count_word = res.value_counts()[:30]\n",
    "  word = []\n",
    "  for i in range(len(count_word.index)):\n",
    "    word.append(count_word.index[i][0])\n",
    "  plt.figure(figsize=(20,10))\n",
    "  sns.barplot(count_word, word)\n",
    "  plt.savefig('/content/drive/MyDrive/BML/images/top_30_words1.png')\n",
    "  plt.show()\n",
    "  return count_word\n"
   ]
  },
  {
   "cell_type": "code",
   "execution_count": null,
   "metadata": {
    "colab": {
     "base_uri": "https://localhost:8080/",
     "height": 556
    },
    "id": "ng2a6IY1Rr-_",
    "outputId": "102abcd7-1090-48ea-f98b-ade783a104d6"
   },
   "outputs": [
    {
     "name": "stderr",
     "output_type": "stream",
     "text": [
      "/usr/local/lib/python3.6/dist-packages/seaborn/_decorators.py:43: FutureWarning: Pass the following variables as keyword args: x, y. From version 0.12, the only valid positional argument will be `data`, and passing other arguments without an explicit keyword will result in an error or misinterpretation.\n",
      "  FutureWarning\n"
     ]
    },
    {
     "data": {
      "image/png": "[encoded data removed]",
      "text/plain": [
       "<Figure size 1440x720 with 1 Axes>"
      ]
     },
     "metadata": {
      "tags": []
     },
     "output_type": "display_data"
    }
   ],
   "source": [
    "word_count = top_n_popular_words(merge_df['comment'])"
   ]
  },
  {
   "cell_type": "code",
   "execution_count": null,
   "metadata": {
    "colab": {
     "base_uri": "https://localhost:8080/",
     "height": 1000
    },
    "id": "A6Gsd09Ya4E8",
    "outputId": "21abc2d4-4ce3-4934-bf58-e46e10843468"
   },
   "outputs": [
    {
     "name": "stderr",
     "output_type": "stream",
     "text": [
      "/usr/local/lib/python3.6/dist-packages/seaborn/_decorators.py:43: FutureWarning: Pass the following variables as keyword args: x, y. From version 0.12, the only valid positional argument will be `data`, and passing other arguments without an explicit keyword will result in an error or misinterpretation.\n",
      "  FutureWarning\n"
     ]
    },
    {
     "data": {
      "image/png": "[encoded data removed]",
      "text/plain": [
       "<Figure size 1440x720 with 1 Axes>"
      ]
     },
     "metadata": {
      "tags": []
     },
     "output_type": "display_data"
    },
    {
     "data": {
      "text/plain": [
       "sản_phẩm            9747\n",
       "đẹp                 8892\n",
       "chất                8167\n",
       "hàng                7252\n",
       "cửa_hàng            5558\n",
       "giao                5169\n",
       "áo                  4224\n",
       "tuyệt_vời           3975\n",
       "positive            3691\n",
       "đóng_gói            3586\n",
       "tiền                3327\n",
       "chắn                3132\n",
       "vải                 2753\n",
       "thời_gian           2572\n",
       "cửa_hàng_phục_vụ    2377\n",
       "hơi                 2283\n",
       "hình                2078\n",
       "mặc                 1964\n",
       "mua                 1957\n",
       "lắm                 1875\n",
       "màu                 1874\n",
       "ok                  1743\n",
       "giá                 1677\n",
       "cỡ                  1263\n",
       "ủng_hộ               984\n",
       "mỏng                 962\n",
       "quần                 874\n",
       "ưng                  871\n",
       "nhiệt_tình           789\n",
       "tạm                  788\n",
       "dtype: int64"
      ]
     },
     "execution_count": 125,
     "metadata": {
      "tags": []
     },
     "output_type": "execute_result"
    }
   ],
   "source": [
    "# Remove stop words\n",
    "sw_path = '/content/drive/MyDrive/BML/vietnamese-stopwords-dash.txt'\n",
    "with open(sw_path, mode='r', encoding='utf8') as f:\n",
    "  stop_words = f.read().split('\\n')\n",
    "remove_sw = [remove_stop_words(i, stop_words) for i in merge_df['comment']]\n",
    "word_count = top_n_popular_words(remove_sw)\n",
    "word_count"
   ]
  },
  {
   "cell_type": "code",
   "execution_count": null,
   "metadata": {
    "colab": {
     "base_uri": "https://localhost:8080/",
     "height": 35
    },
    "id": "Kw88umTQnfJC",
    "outputId": "e107e79d-75b0-49b9-c224-c4f7e783b888"
   },
   "outputs": [
    {
     "data": {
      "application/vnd.google.colaboratory.intrinsic+json": {
       "type": "string"
      },
      "text/plain": [
       "'Hàng đẹp, chi ưng ý.'"
      ]
     },
     "execution_count": 34,
     "metadata": {
      "tags": []
     },
     "output_type": "execute_result"
    }
   ],
   "source": [
    "remove_stop_words('Hàng rất đẹp, rất chi là ưng ý.',stop_words)"
   ]
  },
  {
   "cell_type": "markdown",
   "metadata": {
    "id": "IrQZKuqRpaQG"
   },
   "source": [
    "# 4. Tiền xử lý dữ liệu"
   ]
  },
  {
   "cell_type": "code",
   "execution_count": null,
   "metadata": {
    "colab": {
     "base_uri": "https://localhost:8080/",
     "height": 35
    },
    "id": "WXXZdNuIJKgZ",
    "outputId": "eba68e79-fe0f-42a8-ba12-4f55dbc4c02c"
   },
   "outputs": [
    {
     "data": {
      "application/vnd.google.colaboratory.intrinsic+json": {
       "type": "string"
      },
      "text/plain": [
       "'vải đẹp mà rộng so với người của e cám ơn  cửa hàng    '"
      ]
     },
     "execution_count": 10,
     "metadata": {
      "tags": []
     },
     "output_type": "execute_result"
    }
   ],
   "source": [
    "def preprocessing(s):\n",
    "  # chuẩn hóa về dạng viết thường\n",
    "  s = s.lower()\n",
    "\n",
    "  # loại bỏ các ký tự trùng nhau\n",
    "  s = re.sub(r'([a-z])\\1+', lambda m: m.group(1), s)\n",
    "  s = re.sub(r'([a-z][a-z])\\1+', lambda m: m.group(1), s)\n",
    "  s = re.sub(r'(\\))\\1+', lambda m: m.group(1), s)\n",
    "  s = re.sub(r'(\\()\\1+', lambda m: m.group(1), s)\n",
    "\n",
    "  # chuẩn hóa các kí tự, chuyển đổi các icon, từ viết tắt\n",
    "  replace_list = {\n",
    "            'òa': 'oà', 'óa': 'oá', 'ỏa': 'oả', 'õa': 'oã', 'ọa': 'oạ', 'òe': 'oè', 'óe': 'oé','ỏe': 'oẻ',\n",
    "            'õe': 'oẽ', 'ọe': 'oẹ', 'ùy': 'uỳ', 'úy': 'uý', 'ủy': 'uỷ', 'ũy': 'uỹ','ụy': 'uỵ', 'uả': 'ủa',\n",
    "            'ả': 'ả', 'ố': 'ố', 'u´': 'ố','ỗ': 'ỗ', 'ồ': 'ồ', 'ổ': 'ổ', 'ấ': 'ấ', 'ẫ': 'ẫ', 'ẩ': 'ẩ',\n",
    "            'ầ': 'ầ', 'ỏ': 'ỏ', 'ề': 'ề','ễ': 'ễ', 'ắ': 'ắ', 'ủ': 'ủ', 'ế': 'ế', 'ở': 'ở', 'ỉ': 'ỉ',\n",
    "            'ẻ': 'ẻ', 'àk': u' à ','aˋ': 'à', 'iˋ': 'ì', 'ă´': 'ắ','ử': 'ử', 'e˜': 'ẽ', 'y˜': 'ỹ', 'a´': 'á',\n",
    "            #Quy các icon về 2 loại emoj: Tích cực hoặc tiêu cực\n",
    "            \"👹\": \"negative\", \"👻\": \"positive\", \"💃\": \"positive\",'🤙': ' positive ', '👍': ' positive ',\n",
    "            \"💄\": \"positive\", \"💎\": \"positive\", \"💩\": \"positive\",\"😕\": \"negative\", \"😱\": \"negative\", \"😸\": \"positive\",\n",
    "            \"😾\": \"negative\", \"🚫\": \"negative\",  \"🤬\": \"negative\",\"🧚\": \"positive\", \"🧡\": \"positive\",'🐶':' positive ',\n",
    "            '👎': ' negative ', '😣': ' negative ','✨': ' positive ', '❣': ' positive ','☀': ' positive ',\n",
    "            '♥': ' positive ', '🤩': ' positive ', 'like': ' positive ', '💌': ' positive ',\n",
    "            '🤣': ' positive ', '🖤': ' positive ', '🤤': ' positive ', ':(': ' negative ', '😢': ' negative ',\n",
    "            '❤': ' positive ', '😍': ' positive ', '😘': ' positive ', '😪': ' negative ', '😊': ' positive ',\n",
    "            '?': ' ? ', '😁': ' positive ', '💖': ' positive ', '😟': ' negative ', '😭': ' negative ',\n",
    "            '💯': ' positive ', '💗': ' positive ', '♡': ' positive ', '💜': ' positive ', '🤗': ' positive ',\n",
    "            '^^': ' positive ', '😨': ' negative ', '☺': ' positive ', '💋': ' positive ', '👌': ' positive ',\n",
    "            '😖': ' negative ', '😀': ' positive ', ':((': ' negative ', '😡': ' negative ', '😠': ' negative ',\n",
    "            '😒': ' negative ', '🙂': ' positive ', '😏': ' negative ', '😝': ' positive ', '😄': ' positive ',\n",
    "            '😙': ' positive ', '😤': ' negative ', '😎': ' positive ', '😆': ' positive ', '💚': ' positive ',\n",
    "            '✌': ' positive ', '💕': ' positive ', '😞': ' negative ', '😓': ' negative ', '️🆗️': ' positive ',\n",
    "            '😉': ' positive ', '😂': ' positive ', ':v': '  positive ', '=))': '  positive ', '😋': ' positive ',\n",
    "            '💓': ' positive ', '😐': ' negative ', ':3': ' positive ', '😫': ' negative ', '😥': ' negative ',\n",
    "            '😃': ' positive ', '😬': ' 😬 ', '😌': ' 😌 ', '💛': ' positive ', '🤝': ' positive ', '🎈': ' positive ',\n",
    "            '😗': ' positive ', '🤔': ' negative ', '😑': ' negative ', '🔥': ' negative ', '🙏': ' negative ',\n",
    "            '🆗': ' positive ', '😻': ' positive ', '💙': ' positive ', '💟': ' positive ', '👩': ' positive ','🏫': ' positive ',\n",
    "            '😚': ' positive ', '❌': ' negative ', '👏': ' positive ', ';)': ' positive ', '<3': ' positive ',\n",
    "            '🌝': ' positive ',  '🌷': ' positive ', '🌸': ' positive ', '🌺': ' positive ', '🤦': ' negative ',\n",
    "            '🌼': ' positive ', '🍓': ' positive ', '🐅': ' positive ', '🐾': ' positive ', '👉': ' positive ',\n",
    "            '💐': ' positive ', '💞': ' positive ', '💥': ' positive ', '💪': ' positive ', '🥀': ' negative ', '🌹': ' positive ',\n",
    "            '💰': ' positive ',  '😇': ' positive ', '😛': ' positive ', '😜': ' positive ', '😅': ' positive ', '🤭': ' negative ',\n",
    "            '🙃': ' positive ', '🤑': ' positive ', '🤪': ' positive ','☹': ' negative ',  '💀': ' negative ',\n",
    "            '😔': ' negative ', '😧': ' negative ', '😩': ' negative ', '😰': ' negative ', '😳': ' negative ',\n",
    "            '😵': ' negative ', '😶': ' negative ', '🙁': ' negative ', '✅': ' positive ', '🙈' : ' positive ',\n",
    "            ':\"(': ' negative ', ':\\'(': ' negative ', '🎶': ' positive ', '🎵': ' positive ', '😌': ' negative ' ,\n",
    "            \n",
    "            \n",
    "            #Chuẩn hóa 1 số sentiment words/English words\n",
    "            ':))': '  positive ', ':)': ' positive ', 'ô kêi': ' ok ', 'okie': ' ok ', ' o kê ': ' ok ',\n",
    "            'okey': ' ok ', 'ôkê': ' ok ', 'oki': ' ok ', ' oke ':  ' ok ',' okay':' ok ','okê':' ok ',\n",
    "            ' tks ': u' cám ơn ', 'thks': u' cám ơn ', 'thanks': u' cám ơn ', 'ths': u' cám ơn ', 'thank': u' cám ơn ',\n",
    "            '⭐': 'star ', '*': 'star ', '🌟': 'star ', '🎉': u' positive ', 'khong': 'không',\n",
    "            'kg ': u' không ','not': u' không ', u' kg ': u' không ', '\"k ': u' không ',' kh ':u' không ','kô':u' không ','hok':u' không ',' kp ': u' không phải ',u' kô ': u' không ', '\"ko ': u' không ', u' ko ': u' không ', u' k ': u' không ', 'khong': u' không ', u' hok ': u' không ',\n",
    "            'he he': ' positive ','hehe': ' positive ','hihi': ' positive ', 'haha': ' positive ', 'hjhj': ' positive ',\n",
    "            ' lol ': ' negative ',' cc ': ' negative ','cute': u' dễ thương ','huhu': ' negative ', ' vs ': u' với ', 'wa': ' quá ', 'wá': u' quá', 'j': u' gì ', '“': ' ',\n",
    "            ' sz ': u' cỡ ', 'size': u' cỡ ', u' đx ': u' được ', 'dk': u' được ', 'dc': u' được ', 'đk': u' được ',\n",
    "            'đc': u' được ','authentic': u' chuẩn chính hãng ',u' aut ': u' chuẩn chính hãng ', u' auth ': u' chuẩn chính hãng ', 'thick': u' positive ', 'store': u' cửa hàng ',\n",
    "            'shop': u' cửa hàng ', 'sp': u' sản phẩm ', 'gud': u' tốt ','god': u' tốt ','wel done':' tốt ', 'good': u' tốt ', 'gút': u' tốt ',\n",
    "            'sấu': u' xấu ','gut': u' tốt ', u' tot ': u' tốt ', u' nice ': u' tốt ', 'perfect': 'rất tốt', 'bt': u' bình thường ',\n",
    "            'time': u' thời gian ', 'qá': u' quá ', u' ship ': u' giao hàng ', u' m ': u' mình ', u' mik ': u' mình ',\n",
    "            'ể': 'ể', 'product': 'sản phẩm', 'quality': 'chất lượng','chat':' chất ', 'excelent': 'hoàn hảo', 'bad': 'tệ','fresh': ' tươi ','sad': ' tệ ',\n",
    "            'date': u' hạn sử dụng ', 'hsd': u' hạn sử dụng ','quickly': u' nhanh ', 'quick': u' nhanh ','fast': u' nhanh ','delivery': u' giao hàng ',u' síp ': u' giao hàng ',\n",
    "            'beautiful': u' đẹp tuyệt vời ', u' tl ': u' trả lời ', u' r ': u' rồi ', u' shopE ': u' cửa hàng ',u' order ': u' đặt hàng ',\n",
    "            'chất lg': u' chất lượng ',u' sd ': u' sử dụng ',u' dt ': u' điện thoại ',u' nt ': u' nhắn tin ',u' tl ': u' trả lời ',u' sài ': u' xài ',u'bjo':u' bao giờ ',\n",
    "            'thik': u' thích ',u' sop ': u' cửa hàng ', ' fb ': ' facebook ', ' face ': ' facebook ', ' very ': u' rất ',u'quả ng ':u' quảng  ',\n",
    "            'dep': u' đẹp ',u' xau ': u' xấu ','delicious': u' ngon ', u'hàg': u' hàng ', u'qủa': u' quả ',\n",
    "            'iu': u' yêu ','fake': u' giả mạo ', 'trl': 'trả lời', '><': u' positive ', u'pị': u'bị', u'qà': u'quà',\n",
    "            ' por ': u' tệ ',' poor ': u' tệ ', 'ib':u' nhắn tin ', 'rep':u' trả lời ',u'fback':' feedback ','fedback':' feedback ',\n",
    "            '6 sao': ' rất tuyệt vời ','6 star': ' rất tuyệt vời ', '5star': ' rất tuyệt vời ','5 sao': ' rất tuyệt vời ','5sao': ' rất tuyệt vời ',\n",
    "            'starstarstarstarstar': ' rất tuyệt vời ', '1 sao': ' tệ ', '1sao': ' quá tệ ','2 sao':' tệ ','2sao':' tệ ',\n",
    "            '2 starstar':' tệ ','1star': ' tệ ', '0 sao': ' quá tệ ', '0star': ' quá tệ ','4 sao': ' tuyệt vời ', '4 star': ' tuyệt vời ',\n",
    "            '4sao': ' tuyệt vời ', '3 sao': ' bình thường ', '3 star': ' bình thường ', '3sao': ' bình thường '}\n",
    "  \n",
    "  for k, v in replace_list.items():\n",
    "      s = s.replace(k, v)\n",
    "\n",
    "  # Loại bỏ các ký tự đặc biệt và số \n",
    "  s = re.sub(r'[a-z]+[0-9]+', '', s)\n",
    "  s = re.sub(r'([0-9]+[a-z]+)', '', s)\n",
    "  s = re.sub(r'[0-9]+', '', s)\n",
    "  s = re.sub(r'[!\\.\\?\\,:@#\\$%\\^&\\*\\(\\)\\[\\]{}|\\\\\\/\\+=\\-_;~<>]', ' ', s)  \n",
    "  s = re.sub(r'\"', '', s)\n",
    "  s = re.sub(r\"'\", '', s)\n",
    "  return s\n",
    "\n",
    "                \n",
    "s = \"Vải đẹp mà rộng so với người của e tks shop...\"\n",
    "preprocessing(s)\n"
   ]
  },
  {
   "cell_type": "code",
   "execution_count": null,
   "metadata": {
    "colab": {
     "base_uri": "https://localhost:8080/"
    },
    "id": "mrS7K-GQ_92x",
    "outputId": "54593632-5bee-4f84-8a87-6fb2289ff172"
   },
   "outputs": [
    {
     "data": {
      "text/plain": [
       "0                                           áo bao đẹp ạ!!\n",
       "1                                              tuyệt vời !\n",
       "2                               2day ao khong giong trong.\n",
       "3                              mùi thơm,bôi lên da mềm da.\n",
       "4                                        vải đẹp, dày dặn.\n",
       "                               ...                        \n",
       "31455                                     không đáng tiền.\n",
       "31456                                        quần rất đẹp.\n",
       "31457                              hàng đẹp đúng giá tiền.\n",
       "31458                                     chất vải khá ổn.\n",
       "31459    áo rất ok nhé , vải mịn , len cao cổ này phối ...\n",
       "Name: comment, Length: 31460, dtype: object"
      ]
     },
     "execution_count": 42,
     "metadata": {
      "tags": []
     },
     "output_type": "execute_result"
    }
   ],
   "source": [
    "# chuẩn hóa dữ liệu về lowercase\n",
    "df['comment'] = df['comment'].apply(lambda x: x.lower())\n",
    "df['comment']"
   ]
  },
  {
   "cell_type": "code",
   "execution_count": null,
   "metadata": {
    "colab": {
     "base_uri": "https://localhost:8080/"
    },
    "id": "5FkG1FiJ2by3",
    "outputId": "a9953102-49e5-4845-afe5-97b48bee7595"
   },
   "outputs": [
    {
     "data": {
      "text/plain": [
       "0                                           áo bao đẹp ạ!!\n",
       "1                                              tuyệt vời !\n",
       "2                               2day ao khong giong trong.\n",
       "3                              mùi thơm,bôi lên da mềm da.\n",
       "4                                        vải đẹp, dày dặn.\n",
       "                               ...                        \n",
       "31455                                     không đáng tiền.\n",
       "31456                                        quần rất đẹp.\n",
       "31457                              hàng đẹp đúng giá tiền.\n",
       "31458                                     chất vải khá ổn.\n",
       "31459    áo rất ok nhé , vải mịn , len cao cổ này phối ...\n",
       "Name: comment, Length: 31460, dtype: object"
      ]
     },
     "execution_count": 43,
     "metadata": {
      "tags": []
     },
     "output_type": "execute_result"
    }
   ],
   "source": [
    "# Loại bỏ các ký tự trùnng nhau\n",
    "class removeRepeatedChars(BaseEstimator, TransformerMixin):\n",
    "    def transform(self, x):\n",
    "      result = []\n",
    "      x = x.astype(str)\n",
    "      for s in x:\n",
    "        s = re.sub(r'([a-z])\\1+', lambda m: m.group(1), s, flags=re.IGNORECASE)\n",
    "        s = re.sub(r'([a-z][a-z])\\1+', lambda m: m.group(1), s, flags=re.IGNORECASE)\n",
    "        s = re.sub(r'(\\))\\1+', lambda m: m.group(1), s)\n",
    "        s = re.sub(r'(\\()\\1+', lambda m: m.group(1), s)\n",
    "        result.append(s)\n",
    "      return np.array(result)\n",
    "\n",
    "    def fit(self,x, y=None):\n",
    "        return self\n",
    "df['comment']= removeRepeatedChars().transform(df['comment'])\n",
    "df['comment']"
   ]
  },
  {
   "cell_type": "code",
   "execution_count": null,
   "metadata": {
    "colab": {
     "base_uri": "https://localhost:8080/"
    },
    "id": "-F8HDozssMqV",
    "outputId": "5f78c9e0-45eb-4cc3-c127-5626c175b5fc"
   },
   "outputs": [
    {
     "data": {
      "text/plain": [
       "0                                           áo bao đẹp ạ!!\n",
       "1                                              tuyệt vời !\n",
       "2                             2day ao  không  giong trong.\n",
       "3                              mùi thơm,bôi lên da mềm da.\n",
       "4                                        vải đẹp, dày dặn.\n",
       "                               ...                        \n",
       "31455                                     không đáng tiền.\n",
       "31456                                        quần rất đẹp.\n",
       "31457                              hàng đẹp đúng giá tiền.\n",
       "31458                                     chất vải khá ổn.\n",
       "31459    áo rất ok nhé , vải mịn , len cao cổ này phối ...\n",
       "Name: comment, Length: 31460, dtype: object"
      ]
     },
     "execution_count": 44,
     "metadata": {
      "tags": []
     },
     "output_type": "execute_result"
    }
   ],
   "source": [
    "#standardize Vietnamese characters\n",
    "class standardizeChars(BaseEstimator, TransformerMixin):\n",
    "    def __init__(self):\n",
    "      self.replace_list = {\n",
    "            'òa': 'oà', 'óa': 'oá', 'ỏa': 'oả', 'õa': 'oã', 'ọa': 'oạ', 'òe': 'oè', 'óe': 'oé','ỏe': 'oẻ',\n",
    "            'õe': 'oẽ', 'ọe': 'oẹ', 'ùy': 'uỳ', 'úy': 'uý', 'ủy': 'uỷ', 'ũy': 'uỹ','ụy': 'uỵ', 'uả': 'ủa',\n",
    "            'ả': 'ả', 'ố': 'ố', 'u´': 'ố','ỗ': 'ỗ', 'ồ': 'ồ', 'ổ': 'ổ', 'ấ': 'ấ', 'ẫ': 'ẫ', 'ẩ': 'ẩ',\n",
    "            'ầ': 'ầ', 'ỏ': 'ỏ', 'ề': 'ề','ễ': 'ễ', 'ắ': 'ắ', 'ủ': 'ủ', 'ế': 'ế', 'ở': 'ở', 'ỉ': 'ỉ',\n",
    "            'ẻ': 'ẻ', 'àk': u' à ','aˋ': 'à', 'iˋ': 'ì', 'ă´': 'ắ','ử': 'ử', 'e˜': 'ẽ', 'y˜': 'ỹ', 'a´': 'á',\n",
    "            #Quy các icon về 2 loại emoj: Tích cực hoặc tiêu cực\n",
    "            \"👹\": \"negative\", \"👻\": \"positive\", \"💃\": \"positive\",'🤙': ' positive ', '👍': ' positive ',\n",
    "            \"💄\": \"positive\", \"💎\": \"positive\", \"💩\": \"positive\",\"😕\": \"negative\", \"😱\": \"negative\", \"😸\": \"positive\",\n",
    "            \"😾\": \"negative\", \"🚫\": \"negative\",  \"🤬\": \"negative\",\"🧚\": \"positive\", \"🧡\": \"positive\",'🐶':' positive ',\n",
    "            '👎': ' negative ', '😣': ' negative ','✨': ' positive ', '❣': ' positive ','☀': ' positive ',\n",
    "            '♥': ' positive ', '🤩': ' positive ', 'like': ' positive ', '💌': ' positive ',\n",
    "            '🤣': ' positive ', '🖤': ' positive ', '🤤': ' positive ', ':(': ' negative ', '😢': ' negative ',\n",
    "            '❤': ' positive ', '😍': ' positive ', '😘': ' positive ', '😪': ' negative ', '😊': ' positive ',\n",
    "            '?': ' ? ', '😁': ' positive ', '💖': ' positive ', '😟': ' negative ', '😭': ' negative ',\n",
    "            '💯': ' positive ', '💗': ' positive ', '♡': ' positive ', '💜': ' positive ', '🤗': ' positive ',\n",
    "            '^^': ' positive ', '😨': ' negative ', '☺': ' positive ', '💋': ' positive ', '👌': ' positive ',\n",
    "            '😖': ' negative ', '😀': ' positive ', ':((': ' negative ', '😡': ' negative ', '😠': ' negative ',\n",
    "            '😒': ' negative ', '🙂': ' positive ', '😏': ' negative ', '😝': ' positive ', '😄': ' positive ',\n",
    "            '😙': ' positive ', '😤': ' negative ', '😎': ' positive ', '😆': ' positive ', '💚': ' positive ',\n",
    "            '✌': ' positive ', '💕': ' positive ', '😞': ' negative ', '😓': ' negative ', '️🆗️': ' positive ',\n",
    "            '😉': ' positive ', '😂': ' positive ', ':v': '  positive ', '=))': '  positive ', '😋': ' positive ',\n",
    "            '💓': ' positive ', '😐': ' negative ', ':3': ' positive ', '😫': ' negative ', '😥': ' negative ',\n",
    "            '😃': ' positive ', '😬': ' 😬 ', '😌': ' 😌 ', '💛': ' positive ', '🤝': ' positive ', '🎈': ' positive ',\n",
    "            '😗': ' positive ', '🤔': ' negative ', '😑': ' negative ', '🔥': ' negative ', '🙏': ' negative ',\n",
    "            '🆗': ' positive ', '😻': ' positive ', '💙': ' positive ', '💟': ' positive ', '👩': ' positive ','🏫': ' positive ',\n",
    "            '😚': ' positive ', '❌': ' negative ', '👏': ' positive ', ';)': ' positive ', '<3': ' positive ',\n",
    "            '🌝': ' positive ',  '🌷': ' positive ', '🌸': ' positive ', '🌺': ' positive ', '🤦': ' negative ',\n",
    "            '🌼': ' positive ', '🍓': ' positive ', '🐅': ' positive ', '🐾': ' positive ', '👉': ' positive ',\n",
    "            '💐': ' positive ', '💞': ' positive ', '💥': ' positive ', '💪': ' positive ', '🥀': ' negative ', '🌹': ' positive ',\n",
    "            '💰': ' positive ',  '😇': ' positive ', '😛': ' positive ', '😜': ' positive ', '😅': ' positive ', '🤭': ' negative ',\n",
    "            '🙃': ' positive ', '🤑': ' positive ', '🤪': ' positive ','☹': ' negative ',  '💀': ' negative ',\n",
    "            '😔': ' negative ', '😧': ' negative ', '😩': ' negative ', '😰': ' negative ', '😳': ' negative ',\n",
    "            '😵': ' negative ', '😶': ' negative ', '🙁': ' negative ', '✅': ' positive ', '🙈' : ' positive ',\n",
    "            ':\"(': ' negative ', ':\\'(': ' negative ', '🎶': ' positive ', '🎵': ' positive ', '😌': ' negative ' ,\n",
    "            \n",
    "            \n",
    "            #Chuẩn hóa 1 số sentiment words/English words\n",
    "            ':))': '  positive ', ':)': ' positive ', 'ô kêi': ' ok ', 'okie': ' ok ', ' o kê ': ' ok ',\n",
    "            'okey': ' ok ', 'ôkê': ' ok ', 'oki': ' ok ', ' oke ':  ' ok ',' okay':' ok ','okê':' ok ',\n",
    "            ' tks ': u' cám ơn ', 'thks': u' cám ơn ', 'thanks': u' cám ơn ', 'ths': u' cám ơn ', 'thank': u' cám ơn ',\n",
    "            '⭐': 'star ', '*': 'star ', '🌟': 'star ', '🎉': u' positive ', 'khong': 'không',\n",
    "            'kg ': u' không ','not': u' không ', u' kg ': u' không ', '\"k ': u' không ',' kh ':u' không ','kô':u' không ','hok':u' không ',' kp ': u' không phải ',u' kô ': u' không ', '\"ko ': u' không ', u' ko ': u' không ', u' k ': u' không ', 'khong': u' không ', u' hok ': u' không ',\n",
    "            'he he': ' positive ','hehe': ' positive ','hihi': ' positive ', 'haha': ' positive ', 'hjhj': ' positive ',\n",
    "            ' lol ': ' negative ',' cc ': ' negative ','cute': u' dễ thương ','huhu': ' negative ', ' vs ': u' với ', 'wa': ' quá ', 'wá': u' quá', 'j': u' gì ', '“': ' ',\n",
    "            ' sz ': u' cỡ ', 'size': u' cỡ ', u' đx ': u' được ', 'dk': u' được ', 'dc': u' được ', 'đk': u' được ',\n",
    "            'đc': u' được ','authentic': u' chuẩn chính hãng ',u' aut ': u' chuẩn chính hãng ', u' auth ': u' chuẩn chính hãng ', 'thick': u' positive ', 'store': u' cửa hàng ',\n",
    "            'shop': u' cửa hàng ', 'sp': u' sản phẩm ', 'gud': u' tốt ','god': u' tốt ','wel done':' tốt ', 'good': u' tốt ', 'gút': u' tốt ',\n",
    "            'sấu': u' xấu ','gut': u' tốt ', u' tot ': u' tốt ', u' nice ': u' tốt ', 'perfect': 'rất tốt', 'bt': u' bình thường ',\n",
    "            'time': u' thời gian ', 'qá': u' quá ', u' ship ': u' giao hàng ', u' m ': u' mình ', u' mik ': u' mình ',\n",
    "            'ể': 'ể', 'product': 'sản phẩm', 'quality': 'chất lượng','chat':' chất ', 'excelent': 'hoàn hảo', 'bad': 'tệ','fresh': ' tươi ','sad': ' tệ ',\n",
    "            'date': u' hạn sử dụng ', 'hsd': u' hạn sử dụng ','quickly': u' nhanh ', 'quick': u' nhanh ','fast': u' nhanh ','delivery': u' giao hàng ',u' síp ': u' giao hàng ',\n",
    "            'beautiful': u' đẹp tuyệt vời ', u' tl ': u' trả lời ', u' r ': u' rồi ', u' shopE ': u' cửa hàng ',u' order ': u' đặt hàng ',\n",
    "            'chất lg': u' chất lượng ',u' sd ': u' sử dụng ',u' dt ': u' điện thoại ',u' nt ': u' nhắn tin ',u' tl ': u' trả lời ',u' sài ': u' xài ',u'bjo':u' bao giờ ',\n",
    "            'thik': u' thích ',u' sop ': u' cửa hàng ', ' fb ': ' facebook ', ' face ': ' facebook ', ' very ': u' rất ',u'quả ng ':u' quảng  ',\n",
    "            'dep': u' đẹp ',u' xau ': u' xấu ','delicious': u' ngon ', u'hàg': u' hàng ', u'qủa': u' quả ',\n",
    "            'iu': u' yêu ','fake': u' giả mạo ', 'trl': 'trả lời', '><': u' positive ', u'pị': u'bị', u'qà': u'quà',\n",
    "            ' por ': u' tệ ',' poor ': u' tệ ', 'ib':u' nhắn tin ', 'rep':u' trả lời ',u'fback':' feedback ','fedback':' feedback ',\n",
    "            '6 sao': ' 5star ','6 star': ' 5star ', '5star': ' 5star ','5 sao': ' 5star ','5sao': ' 5star ',\n",
    "            'starstarstarstarstar': ' 5star ', '1 sao': ' 1star ', '1sao': ' 1star ','2 sao':' 2star ','2sao':' 2star ',\n",
    "            '2 starstar':' 2star ','1star': ' 1star ', '0 sao': ' 1star ', '0star': ' 1star ','4 sao': ' 4star ', '4 star': ' 4star ',\n",
    "            '4sao': ' 4star ', '3 sao': ' 3star', '3 star': ' 3star', '3sao': ' 3star'}\n",
    "\n",
    "    def remove_redundant_chars(self,s):\n",
    "        s = s.replace(u'\"', u' ')\n",
    "        s = s.replace(u'️', u'')\n",
    "        s = s.replace('🏻','')\n",
    "        return s\n",
    "\n",
    "    def transform(self, x):\n",
    "      result = []\n",
    "      x = x.astype(str)\n",
    "      for s in x:\n",
    "        for k, v in self.replace_list.items():\n",
    "          s = s.replace(k, v)\n",
    "\n",
    "        s = s.replace(u'\"', u' ')\n",
    "        s = s.replace(u'️', u'')\n",
    "        s = s.replace('🏻','')\n",
    "                  \n",
    "        result.append(s)\n",
    "\n",
    "      return np.array(result)\n",
    "\n",
    "    def fit(self,x, y=None):\n",
    "        return self\n",
    "\n",
    "df['comment'] = standardizeChars().transform(df['comment'])\n",
    "df['comment']"
   ]
  },
  {
   "cell_type": "code",
   "execution_count": null,
   "metadata": {
    "colab": {
     "base_uri": "https://localhost:8080/"
    },
    "id": "SJ4qLO-xyUOv",
    "outputId": "dcf00cca-5fbe-489e-fcd7-6243e175ac6e"
   },
   "outputs": [
    {
     "data": {
      "text/plain": [
       "0                                           áo bao đẹp ạ  \n",
       "1                                              tuyệt vời  \n",
       "2                                  ao  không  giong trong \n",
       "3                              mùi thơm bôi lên da mềm da \n",
       "4                                        vải đẹp  dày dặn \n",
       "                               ...                        \n",
       "31455                                     không đáng tiền \n",
       "31456                                        quần rất đẹp \n",
       "31457                              hàng đẹp đúng giá tiền \n",
       "31458                                     chất vải khá ổn \n",
       "31459    áo rất ok nhé   vải mịn   len cao cổ này phối ...\n",
       "Name: comment, Length: 31460, dtype: object"
      ]
     },
     "execution_count": 45,
     "metadata": {
      "tags": []
     },
     "output_type": "execute_result"
    }
   ],
   "source": [
    "# Loại bỏ các ký tự đặc biệt và số \n",
    "def remove_special_character_and_digit(x):\n",
    "      result = []\n",
    "      x = x.astype(str)\n",
    "      for s in x:\n",
    "        s = re.sub(r'([A-Z])\\1+', lambda m: m.group(1), s, flags=re.IGNORECASE)\n",
    "        s = re.sub(r'[a-zA-Z]+[0-9]+', '', s)\n",
    "        s = re.sub(r'([0-9]+[a-zA-Z]+)', '', s)\n",
    "        s = re.sub(r'[0-9]+', '', s)\n",
    "        s = re.sub(r'[!\\.\\?\\,:@#\\$%\\^&\\*\\(\\)\\[\\]{}|\\\\\\/\\+=\\-_;~<>]', ' ', s)  \n",
    "        result.append(s)\n",
    "\n",
    "      return np.array(result)\n",
    "df['comment'] = remove_special_character_and_digit(df['comment'])\n",
    "df['comment']"
   ]
  },
  {
   "cell_type": "code",
   "execution_count": null,
   "metadata": {
    "colab": {
     "base_uri": "https://localhost:8080/"
    },
    "id": "wXwl5vRVU6Ok",
    "outputId": "f78797c4-4fa5-444d-9260-9e6b2dbaeeaf"
   },
   "outputs": [
    {
     "data": {
      "text/plain": [
       "comment        0\n",
       "label          0\n",
       "rate           0\n",
       "char_length    0\n",
       "word_length    0\n",
       "dtype: int64"
      ]
     },
     "execution_count": 46,
     "metadata": {
      "tags": []
     },
     "output_type": "execute_result"
    }
   ],
   "source": [
    "df.isnull().sum()"
   ]
  },
  {
   "cell_type": "code",
   "execution_count": null,
   "metadata": {
    "id": "r4uZqeZhI6t8"
   },
   "outputs": [],
   "source": [
    "df.to_csv('preprocessed_data.csv')"
   ]
  },
  {
   "cell_type": "code",
   "execution_count": null,
   "metadata": {
    "colab": {
     "base_uri": "https://localhost:8080/"
    },
    "id": "XeHyekCE_w92",
    "outputId": "edab9770-f80d-4c1f-829f-f7a15d2eb869"
   },
   "outputs": [
    {
     "data": {
      "text/plain": [
       "0                                             áo bao đẹp ạ\n",
       "1                                                tuyệt_vời\n",
       "2                                     ao không giong trong\n",
       "3                               mùi thơm bôi lên da mềm da\n",
       "4                                          vải đẹp dày_dặn\n",
       "                               ...                        \n",
       "31455                                      không đáng tiền\n",
       "31456                                         quần rất đẹp\n",
       "31457                               hàng đẹp đúng giá tiền\n",
       "31458                                      chất vải khá ổn\n",
       "31459    áo rất ok nhé vải mịn len cao cổ này phối form...\n",
       "Name: vn_token, Length: 31460, dtype: object"
      ]
     },
     "execution_count": 48,
     "metadata": {
      "tags": []
     },
     "output_type": "execute_result"
    }
   ],
   "source": [
    "# Tách từ Tiếng Việt\n",
    "df['vn_token'] = df['comment'].apply(lambda x: ViTokenizer.tokenize(x))\n",
    "df['vn_token']"
   ]
  },
  {
   "cell_type": "code",
   "execution_count": null,
   "metadata": {
    "id": "6yLRjO18_1Ql"
   },
   "outputs": [],
   "source": []
  },
  {
   "cell_type": "markdown",
   "metadata": {
    "id": "fNULB0kPpK0X"
   },
   "source": [
    "## 5. Trích xuất đặc trưng\n",
    "\n"
   ]
  },
  {
   "cell_type": "code",
   "execution_count": null,
   "metadata": {
    "colab": {
     "base_uri": "https://localhost:8080/"
    },
    "id": "I3YbtCd6wYwb",
    "outputId": "4a6adcd0-35bb-40a8-9b9c-d23d7441897f"
   },
   "outputs": [
    {
     "name": "stdout",
     "output_type": "stream",
     "text": [
      "Requirement already satisfied: transformers in /usr/local/lib/python3.6/dist-packages (3.5.1)\n",
      "Requirement already satisfied: dataclasses; python_version < \"3.7\" in /usr/local/lib/python3.6/dist-packages (from transformers) (0.8)\n",
      "Requirement already satisfied: requests in /usr/local/lib/python3.6/dist-packages (from transformers) (2.23.0)\n",
      "Requirement already satisfied: sacremoses in /usr/local/lib/python3.6/dist-packages (from transformers) (0.0.43)\n",
      "Requirement already satisfied: regex!=2019.12.17 in /usr/local/lib/python3.6/dist-packages (from transformers) (2019.12.20)\n",
      "Requirement already satisfied: packaging in /usr/local/lib/python3.6/dist-packages (from transformers) (20.8)\n",
      "Requirement already satisfied: tqdm>=4.27 in /usr/local/lib/python3.6/dist-packages (from transformers) (4.41.1)\n",
      "Requirement already satisfied: numpy in /usr/local/lib/python3.6/dist-packages (from transformers) (1.19.4)\n",
      "Requirement already satisfied: protobuf in /usr/local/lib/python3.6/dist-packages (from transformers) (3.12.4)\n",
      "Requirement already satisfied: tokenizers==0.9.3 in /usr/local/lib/python3.6/dist-packages (from transformers) (0.9.3)\n",
      "Requirement already satisfied: sentencepiece==0.1.91 in /usr/local/lib/python3.6/dist-packages (from transformers) (0.1.91)\n",
      "Requirement already satisfied: filelock in /usr/local/lib/python3.6/dist-packages (from transformers) (3.0.12)\n",
      "Requirement already satisfied: idna<3,>=2.5 in /usr/local/lib/python3.6/dist-packages (from requests->transformers) (2.10)\n",
      "Requirement already satisfied: urllib3!=1.25.0,!=1.25.1,<1.26,>=1.21.1 in /usr/local/lib/python3.6/dist-packages (from requests->transformers) (1.24.3)\n",
      "Requirement already satisfied: chardet<4,>=3.0.2 in /usr/local/lib/python3.6/dist-packages (from requests->transformers) (3.0.4)\n",
      "Requirement already satisfied: certifi>=2017.4.17 in /usr/local/lib/python3.6/dist-packages (from requests->transformers) (2020.12.5)\n",
      "Requirement already satisfied: click in /usr/local/lib/python3.6/dist-packages (from sacremoses->transformers) (7.1.2)\n",
      "Requirement already satisfied: joblib in /usr/local/lib/python3.6/dist-packages (from sacremoses->transformers) (1.0.0)\n",
      "Requirement already satisfied: six in /usr/local/lib/python3.6/dist-packages (from sacremoses->transformers) (1.15.0)\n",
      "Requirement already satisfied: pyparsing>=2.0.2 in /usr/local/lib/python3.6/dist-packages (from packaging->transformers) (2.4.7)\n",
      "Requirement already satisfied: setuptools in /usr/local/lib/python3.6/dist-packages (from protobuf->transformers) (51.0.0)\n"
     ]
    }
   ],
   "source": [
    "!pip install transformers\n",
    "import pandas as pd\n",
    "import numpy as np\n",
    "import tensorflow as tf\n",
    "import torch\n",
    "from torch.nn import BCEWithLogitsLoss, BCELoss, ModuleList\n",
    "from torch.utils.data import TensorDataset, DataLoader, RandomSampler, SequentialSampler\n",
    "from keras.preprocessing.sequence import pad_sequences\n",
    "from sklearn.model_selection import train_test_split\n",
    "from sklearn.preprocessing import MultiLabelBinarizer, LabelEncoder\n",
    "from sklearn.metrics import classification_report, confusion_matrix, multilabel_confusion_matrix, f1_score, accuracy_score\n",
    "import pickle\n",
    "from transformers import *\n",
    "from tqdm import tqdm, trange\n",
    "from ast import literal_eval\n",
    "from sklearn import metrics\n",
    "import copy"
   ]
  },
  {
   "cell_type": "code",
   "execution_count": null,
   "metadata": {
    "id": "MZneqx7BgG_B"
   },
   "outputs": [],
   "source": [
    "train_df = pd.read_csv('/content/drive/MyDrive/BML/train.csv')"
   ]
  },
  {
   "cell_type": "code",
   "execution_count": null,
   "metadata": {
    "id": "oG3S1X8Nxvtw"
   },
   "outputs": [],
   "source": [
    "def encoding_input_data(tokenizer,comments, max_length):\n",
    "  # Encoding input data\n",
    "  encodings = tokenizer.batch_encode_plus(comments,max_length=max_length,pad_to_max_length=True)\n",
    "  input_ids = encodings['input_ids']\n",
    "  token_type_ids = encodings['token_type_ids']\n",
    "  attention_masks = encodings['attention_mask']\n",
    "  return input_ids, token_type_ids, attention_masks\n",
    "\n",
    "def make_tensor(input_ids, labels, attention_masks, token_type_ids):\n",
    "  # Make tensors out of data\n",
    "  inputs = torch.tensor(input_ids)\n",
    "  labels = torch.tensor(labels)\n",
    "  masks = torch.tensor(attention_masks)\n",
    "  token_types = torch.tensor(token_type_ids)\n",
    "  return inputs, labels, masks, token_types\n",
    "\n",
    "def create_dataloader(inputs, masks, labels, token_types, name_dataloader, batch_size):\n",
    "  # Create test dataloader\n",
    "  data = TensorDataset(inputs, masks, labels, token_types)\n",
    "  sampler = SequentialSampler(data)\n",
    "  dataloader = DataLoader(data, sampler=sampler, batch_size=batch_size)\n",
    "  # Save test dataloader\n",
    "  torch.save(dataloader, name_dataloader)\n",
    "\n",
    "  return data, sampler, dataloader"
   ]
  },
  {
   "cell_type": "code",
   "execution_count": null,
   "metadata": {
    "colab": {
     "base_uri": "https://localhost:8080/",
     "height": 440
    },
    "id": "IKY7OeUWrdIJ",
    "outputId": "59dac6a9-434d-4c42-f359-1a73d30ba426"
   },
   "outputs": [
    {
     "name": "stdout",
     "output_type": "stream",
     "text": [
      "Looking in links: https://download.pytorch.org/whl/torch_stable.html\n",
      "Collecting torch==1.5.0+cu101\n",
      "\u001b[?25l  Downloading https://download.pytorch.org/whl/cu101/torch-1.5.0%2Bcu101-cp36-cp36m-linux_x86_64.whl (703.8MB)\n",
      "\u001b[K     |████████████████████████████████| 703.8MB 27kB/s \n",
      "\u001b[?25hCollecting torchvision==0.6.0+cu101\n",
      "\u001b[?25l  Downloading https://download.pytorch.org/whl/cu101/torchvision-0.6.0%2Bcu101-cp36-cp36m-linux_x86_64.whl (6.6MB)\n",
      "\u001b[K     |████████████████████████████████| 6.6MB 21.5MB/s \n",
      "\u001b[?25hRequirement already satisfied: numpy in /usr/local/lib/python3.6/dist-packages (from torch==1.5.0+cu101) (1.19.4)\n",
      "Requirement already satisfied: future in /usr/local/lib/python3.6/dist-packages (from torch==1.5.0+cu101) (0.16.0)\n",
      "Requirement already satisfied: pillow>=4.1.1 in /usr/local/lib/python3.6/dist-packages (from torchvision==0.6.0+cu101) (7.0.0)\n",
      "Installing collected packages: torch, torchvision\n",
      "  Found existing installation: torch 1.5.1\n",
      "    Uninstalling torch-1.5.1:\n",
      "      Successfully uninstalled torch-1.5.1\n",
      "  Found existing installation: torchvision 0.8.1+cu101\n",
      "    Uninstalling torchvision-0.8.1+cu101:\n",
      "      Successfully uninstalled torchvision-0.8.1+cu101\n",
      "Successfully installed torch-1.5.0+cu101 torchvision-0.6.0+cu101\n"
     ]
    },
    {
     "data": {
      "application/vnd.colab-display-data+json": {
       "pip_warning": {
        "packages": [
         "torch"
        ]
       }
      }
     },
     "metadata": {
      "tags": []
     },
     "output_type": "display_data"
    }
   ],
   "source": [
    "!pip install torch==1.5.0+cu101 torchvision==0.6.0+cu101 -f https://download.pytorch.org/whl/torch_stable.html"
   ]
  },
  {
   "cell_type": "code",
   "execution_count": null,
   "metadata": {
    "colab": {
     "base_uri": "https://localhost:8080/"
    },
    "id": "9LmYAk9Ax-W4",
    "outputId": "32905386-106c-45ce-bad1-2eb87d4bb560"
   },
   "outputs": [
    {
     "data": {
      "text/plain": [
       "BertModel(\n",
       "  (embeddings): BertEmbeddings(\n",
       "    (word_embeddings): Embedding(119547, 768, padding_idx=0)\n",
       "    (position_embeddings): Embedding(512, 768)\n",
       "    (token_type_embeddings): Embedding(2, 768)\n",
       "    (LayerNorm): LayerNorm((768,), eps=1e-12, elementwise_affine=True)\n",
       "    (dropout): Dropout(p=0.1, inplace=False)\n",
       "  )\n",
       "  (encoder): BertEncoder(\n",
       "    (layer): ModuleList(\n",
       "      (0): BertLayer(\n",
       "        (attention): BertAttention(\n",
       "          (self): BertSelfAttention(\n",
       "            (query): Linear(in_features=768, out_features=768, bias=True)\n",
       "            (key): Linear(in_features=768, out_features=768, bias=True)\n",
       "            (value): Linear(in_features=768, out_features=768, bias=True)\n",
       "            (dropout): Dropout(p=0.1, inplace=False)\n",
       "          )\n",
       "          (output): BertSelfOutput(\n",
       "            (dense): Linear(in_features=768, out_features=768, bias=True)\n",
       "            (LayerNorm): LayerNorm((768,), eps=1e-12, elementwise_affine=True)\n",
       "            (dropout): Dropout(p=0.1, inplace=False)\n",
       "          )\n",
       "        )\n",
       "        (intermediate): BertIntermediate(\n",
       "          (dense): Linear(in_features=768, out_features=3072, bias=True)\n",
       "        )\n",
       "        (output): BertOutput(\n",
       "          (dense): Linear(in_features=3072, out_features=768, bias=True)\n",
       "          (LayerNorm): LayerNorm((768,), eps=1e-12, elementwise_affine=True)\n",
       "          (dropout): Dropout(p=0.1, inplace=False)\n",
       "        )\n",
       "      )\n",
       "      (1): BertLayer(\n",
       "        (attention): BertAttention(\n",
       "          (self): BertSelfAttention(\n",
       "            (query): Linear(in_features=768, out_features=768, bias=True)\n",
       "            (key): Linear(in_features=768, out_features=768, bias=True)\n",
       "            (value): Linear(in_features=768, out_features=768, bias=True)\n",
       "            (dropout): Dropout(p=0.1, inplace=False)\n",
       "          )\n",
       "          (output): BertSelfOutput(\n",
       "            (dense): Linear(in_features=768, out_features=768, bias=True)\n",
       "            (LayerNorm): LayerNorm((768,), eps=1e-12, elementwise_affine=True)\n",
       "            (dropout): Dropout(p=0.1, inplace=False)\n",
       "          )\n",
       "        )\n",
       "        (intermediate): BertIntermediate(\n",
       "          (dense): Linear(in_features=768, out_features=3072, bias=True)\n",
       "        )\n",
       "        (output): BertOutput(\n",
       "          (dense): Linear(in_features=3072, out_features=768, bias=True)\n",
       "          (LayerNorm): LayerNorm((768,), eps=1e-12, elementwise_affine=True)\n",
       "          (dropout): Dropout(p=0.1, inplace=False)\n",
       "        )\n",
       "      )\n",
       "      (2): BertLayer(\n",
       "        (attention): BertAttention(\n",
       "          (self): BertSelfAttention(\n",
       "            (query): Linear(in_features=768, out_features=768, bias=True)\n",
       "            (key): Linear(in_features=768, out_features=768, bias=True)\n",
       "            (value): Linear(in_features=768, out_features=768, bias=True)\n",
       "            (dropout): Dropout(p=0.1, inplace=False)\n",
       "          )\n",
       "          (output): BertSelfOutput(\n",
       "            (dense): Linear(in_features=768, out_features=768, bias=True)\n",
       "            (LayerNorm): LayerNorm((768,), eps=1e-12, elementwise_affine=True)\n",
       "            (dropout): Dropout(p=0.1, inplace=False)\n",
       "          )\n",
       "        )\n",
       "        (intermediate): BertIntermediate(\n",
       "          (dense): Linear(in_features=768, out_features=3072, bias=True)\n",
       "        )\n",
       "        (output): BertOutput(\n",
       "          (dense): Linear(in_features=3072, out_features=768, bias=True)\n",
       "          (LayerNorm): LayerNorm((768,), eps=1e-12, elementwise_affine=True)\n",
       "          (dropout): Dropout(p=0.1, inplace=False)\n",
       "        )\n",
       "      )\n",
       "      (3): BertLayer(\n",
       "        (attention): BertAttention(\n",
       "          (self): BertSelfAttention(\n",
       "            (query): Linear(in_features=768, out_features=768, bias=True)\n",
       "            (key): Linear(in_features=768, out_features=768, bias=True)\n",
       "            (value): Linear(in_features=768, out_features=768, bias=True)\n",
       "            (dropout): Dropout(p=0.1, inplace=False)\n",
       "          )\n",
       "          (output): BertSelfOutput(\n",
       "            (dense): Linear(in_features=768, out_features=768, bias=True)\n",
       "            (LayerNorm): LayerNorm((768,), eps=1e-12, elementwise_affine=True)\n",
       "            (dropout): Dropout(p=0.1, inplace=False)\n",
       "          )\n",
       "        )\n",
       "        (intermediate): BertIntermediate(\n",
       "          (dense): Linear(in_features=768, out_features=3072, bias=True)\n",
       "        )\n",
       "        (output): BertOutput(\n",
       "          (dense): Linear(in_features=3072, out_features=768, bias=True)\n",
       "          (LayerNorm): LayerNorm((768,), eps=1e-12, elementwise_affine=True)\n",
       "          (dropout): Dropout(p=0.1, inplace=False)\n",
       "        )\n",
       "      )\n",
       "      (4): BertLayer(\n",
       "        (attention): BertAttention(\n",
       "          (self): BertSelfAttention(\n",
       "            (query): Linear(in_features=768, out_features=768, bias=True)\n",
       "            (key): Linear(in_features=768, out_features=768, bias=True)\n",
       "            (value): Linear(in_features=768, out_features=768, bias=True)\n",
       "            (dropout): Dropout(p=0.1, inplace=False)\n",
       "          )\n",
       "          (output): BertSelfOutput(\n",
       "            (dense): Linear(in_features=768, out_features=768, bias=True)\n",
       "            (LayerNorm): LayerNorm((768,), eps=1e-12, elementwise_affine=True)\n",
       "            (dropout): Dropout(p=0.1, inplace=False)\n",
       "          )\n",
       "        )\n",
       "        (intermediate): BertIntermediate(\n",
       "          (dense): Linear(in_features=768, out_features=3072, bias=True)\n",
       "        )\n",
       "        (output): BertOutput(\n",
       "          (dense): Linear(in_features=3072, out_features=768, bias=True)\n",
       "          (LayerNorm): LayerNorm((768,), eps=1e-12, elementwise_affine=True)\n",
       "          (dropout): Dropout(p=0.1, inplace=False)\n",
       "        )\n",
       "      )\n",
       "      (5): BertLayer(\n",
       "        (attention): BertAttention(\n",
       "          (self): BertSelfAttention(\n",
       "            (query): Linear(in_features=768, out_features=768, bias=True)\n",
       "            (key): Linear(in_features=768, out_features=768, bias=True)\n",
       "            (value): Linear(in_features=768, out_features=768, bias=True)\n",
       "            (dropout): Dropout(p=0.1, inplace=False)\n",
       "          )\n",
       "          (output): BertSelfOutput(\n",
       "            (dense): Linear(in_features=768, out_features=768, bias=True)\n",
       "            (LayerNorm): LayerNorm((768,), eps=1e-12, elementwise_affine=True)\n",
       "            (dropout): Dropout(p=0.1, inplace=False)\n",
       "          )\n",
       "        )\n",
       "        (intermediate): BertIntermediate(\n",
       "          (dense): Linear(in_features=768, out_features=3072, bias=True)\n",
       "        )\n",
       "        (output): BertOutput(\n",
       "          (dense): Linear(in_features=3072, out_features=768, bias=True)\n",
       "          (LayerNorm): LayerNorm((768,), eps=1e-12, elementwise_affine=True)\n",
       "          (dropout): Dropout(p=0.1, inplace=False)\n",
       "        )\n",
       "      )\n",
       "      (6): BertLayer(\n",
       "        (attention): BertAttention(\n",
       "          (self): BertSelfAttention(\n",
       "            (query): Linear(in_features=768, out_features=768, bias=True)\n",
       "            (key): Linear(in_features=768, out_features=768, bias=True)\n",
       "            (value): Linear(in_features=768, out_features=768, bias=True)\n",
       "            (dropout): Dropout(p=0.1, inplace=False)\n",
       "          )\n",
       "          (output): BertSelfOutput(\n",
       "            (dense): Linear(in_features=768, out_features=768, bias=True)\n",
       "            (LayerNorm): LayerNorm((768,), eps=1e-12, elementwise_affine=True)\n",
       "            (dropout): Dropout(p=0.1, inplace=False)\n",
       "          )\n",
       "        )\n",
       "        (intermediate): BertIntermediate(\n",
       "          (dense): Linear(in_features=768, out_features=3072, bias=True)\n",
       "        )\n",
       "        (output): BertOutput(\n",
       "          (dense): Linear(in_features=3072, out_features=768, bias=True)\n",
       "          (LayerNorm): LayerNorm((768,), eps=1e-12, elementwise_affine=True)\n",
       "          (dropout): Dropout(p=0.1, inplace=False)\n",
       "        )\n",
       "      )\n",
       "      (7): BertLayer(\n",
       "        (attention): BertAttention(\n",
       "          (self): BertSelfAttention(\n",
       "            (query): Linear(in_features=768, out_features=768, bias=True)\n",
       "            (key): Linear(in_features=768, out_features=768, bias=True)\n",
       "            (value): Linear(in_features=768, out_features=768, bias=True)\n",
       "            (dropout): Dropout(p=0.1, inplace=False)\n",
       "          )\n",
       "          (output): BertSelfOutput(\n",
       "            (dense): Linear(in_features=768, out_features=768, bias=True)\n",
       "            (LayerNorm): LayerNorm((768,), eps=1e-12, elementwise_affine=True)\n",
       "            (dropout): Dropout(p=0.1, inplace=False)\n",
       "          )\n",
       "        )\n",
       "        (intermediate): BertIntermediate(\n",
       "          (dense): Linear(in_features=768, out_features=3072, bias=True)\n",
       "        )\n",
       "        (output): BertOutput(\n",
       "          (dense): Linear(in_features=3072, out_features=768, bias=True)\n",
       "          (LayerNorm): LayerNorm((768,), eps=1e-12, elementwise_affine=True)\n",
       "          (dropout): Dropout(p=0.1, inplace=False)\n",
       "        )\n",
       "      )\n",
       "      (8): BertLayer(\n",
       "        (attention): BertAttention(\n",
       "          (self): BertSelfAttention(\n",
       "            (query): Linear(in_features=768, out_features=768, bias=True)\n",
       "            (key): Linear(in_features=768, out_features=768, bias=True)\n",
       "            (value): Linear(in_features=768, out_features=768, bias=True)\n",
       "            (dropout): Dropout(p=0.1, inplace=False)\n",
       "          )\n",
       "          (output): BertSelfOutput(\n",
       "            (dense): Linear(in_features=768, out_features=768, bias=True)\n",
       "            (LayerNorm): LayerNorm((768,), eps=1e-12, elementwise_affine=True)\n",
       "            (dropout): Dropout(p=0.1, inplace=False)\n",
       "          )\n",
       "        )\n",
       "        (intermediate): BertIntermediate(\n",
       "          (dense): Linear(in_features=768, out_features=3072, bias=True)\n",
       "        )\n",
       "        (output): BertOutput(\n",
       "          (dense): Linear(in_features=3072, out_features=768, bias=True)\n",
       "          (LayerNorm): LayerNorm((768,), eps=1e-12, elementwise_affine=True)\n",
       "          (dropout): Dropout(p=0.1, inplace=False)\n",
       "        )\n",
       "      )\n",
       "      (9): BertLayer(\n",
       "        (attention): BertAttention(\n",
       "          (self): BertSelfAttention(\n",
       "            (query): Linear(in_features=768, out_features=768, bias=True)\n",
       "            (key): Linear(in_features=768, out_features=768, bias=True)\n",
       "            (value): Linear(in_features=768, out_features=768, bias=True)\n",
       "            (dropout): Dropout(p=0.1, inplace=False)\n",
       "          )\n",
       "          (output): BertSelfOutput(\n",
       "            (dense): Linear(in_features=768, out_features=768, bias=True)\n",
       "            (LayerNorm): LayerNorm((768,), eps=1e-12, elementwise_affine=True)\n",
       "            (dropout): Dropout(p=0.1, inplace=False)\n",
       "          )\n",
       "        )\n",
       "        (intermediate): BertIntermediate(\n",
       "          (dense): Linear(in_features=768, out_features=3072, bias=True)\n",
       "        )\n",
       "        (output): BertOutput(\n",
       "          (dense): Linear(in_features=3072, out_features=768, bias=True)\n",
       "          (LayerNorm): LayerNorm((768,), eps=1e-12, elementwise_affine=True)\n",
       "          (dropout): Dropout(p=0.1, inplace=False)\n",
       "        )\n",
       "      )\n",
       "      (10): BertLayer(\n",
       "        (attention): BertAttention(\n",
       "          (self): BertSelfAttention(\n",
       "            (query): Linear(in_features=768, out_features=768, bias=True)\n",
       "            (key): Linear(in_features=768, out_features=768, bias=True)\n",
       "            (value): Linear(in_features=768, out_features=768, bias=True)\n",
       "            (dropout): Dropout(p=0.1, inplace=False)\n",
       "          )\n",
       "          (output): BertSelfOutput(\n",
       "            (dense): Linear(in_features=768, out_features=768, bias=True)\n",
       "            (LayerNorm): LayerNorm((768,), eps=1e-12, elementwise_affine=True)\n",
       "            (dropout): Dropout(p=0.1, inplace=False)\n",
       "          )\n",
       "        )\n",
       "        (intermediate): BertIntermediate(\n",
       "          (dense): Linear(in_features=768, out_features=3072, bias=True)\n",
       "        )\n",
       "        (output): BertOutput(\n",
       "          (dense): Linear(in_features=3072, out_features=768, bias=True)\n",
       "          (LayerNorm): LayerNorm((768,), eps=1e-12, elementwise_affine=True)\n",
       "          (dropout): Dropout(p=0.1, inplace=False)\n",
       "        )\n",
       "      )\n",
       "      (11): BertLayer(\n",
       "        (attention): BertAttention(\n",
       "          (self): BertSelfAttention(\n",
       "            (query): Linear(in_features=768, out_features=768, bias=True)\n",
       "            (key): Linear(in_features=768, out_features=768, bias=True)\n",
       "            (value): Linear(in_features=768, out_features=768, bias=True)\n",
       "            (dropout): Dropout(p=0.1, inplace=False)\n",
       "          )\n",
       "          (output): BertSelfOutput(\n",
       "            (dense): Linear(in_features=768, out_features=768, bias=True)\n",
       "            (LayerNorm): LayerNorm((768,), eps=1e-12, elementwise_affine=True)\n",
       "            (dropout): Dropout(p=0.1, inplace=False)\n",
       "          )\n",
       "        )\n",
       "        (intermediate): BertIntermediate(\n",
       "          (dense): Linear(in_features=768, out_features=3072, bias=True)\n",
       "        )\n",
       "        (output): BertOutput(\n",
       "          (dense): Linear(in_features=3072, out_features=768, bias=True)\n",
       "          (LayerNorm): LayerNorm((768,), eps=1e-12, elementwise_affine=True)\n",
       "          (dropout): Dropout(p=0.1, inplace=False)\n",
       "        )\n",
       "      )\n",
       "    )\n",
       "  )\n",
       "  (pooler): BertPooler(\n",
       "    (dense): Linear(in_features=768, out_features=768, bias=True)\n",
       "    (activation): Tanh()\n",
       "  )\n",
       ")"
      ]
     },
     "execution_count": 4,
     "metadata": {
      "tags": []
     },
     "output_type": "execute_result"
    }
   ],
   "source": [
    "# Khai báo tokenizer\n",
    "max_length = 250\n",
    "batch_size = 32\n",
    "\n",
    "tokenizer = BertTokenizer.from_pretrained('bert-base-multilingual-cased', do_lower_case=False) # tokenizer\n",
    "model = BertModel.from_pretrained('bert-base-multilingual-cased')\n",
    "model.cuda()"
   ]
  },
  {
   "cell_type": "code",
   "execution_count": null,
   "metadata": {
    "id": "q036GRK7qCAp"
   },
   "outputs": [],
   "source": [
    "def feature_extraction(df, model, max_length, batch_size, name_dataloader):\n",
    "    comments = df['comment']\n",
    "    labelencoder = LabelEncoder()\n",
    "    df['label'] = labelencoder.fit_transform(df['label']) \n",
    "    labels = df['label']\n",
    "    input_ids, token_type_ids, attention_masks = encoding_input_data(tokenizer,comments, max_length)\n",
    "    inputs, labels, masks, token_types = make_tensor(input_ids, \n",
    "                                                     labels, \n",
    "                                                     attention_masks, \n",
    "                                                     token_type_ids)\n",
    "    data, sampler, dataloader = create_dataloader(inputs, \n",
    "                                                  masks, \n",
    "                                                  labels, \n",
    "                                                  token_types, \n",
    "                                                  name_dataloader=name_dataloader, \n",
    "                                                  batch_size=batch_size)\n",
    "    device = torch.device(\"cuda\" if torch.cuda.is_available() else \"cpu\")\n",
    "    print(device)\n",
    "    word_embedding = []\n",
    "    for step, batch in enumerate(dataloader):\n",
    "          # Add batch to GPU\n",
    "          batch = tuple(t.to(device) for t in batch)\n",
    "          # Unpack the inputs from our dataloader\n",
    "          b_input_ids, b_input_mask, b_labels, b_token_types = batch\n",
    "          # Clear out the gradients (by default they accumulate)\n",
    "          with torch.no_grad():\n",
    "            outputs = model(b_input_ids)\n",
    "            embedded_vector = outputs[1]\n",
    "          word_embedding.append(embedded_vector.to('cpu').numpy())\n",
    "    # Flatten outputs\n",
    "    word_embedding = [item for sublist in word_embedding for item in sublist]\n",
    "    word_embedding = np.array(word_embedding)\n",
    "    return word_embedding\n"
   ]
  },
  {
   "cell_type": "markdown",
   "metadata": {
    "id": "s4ddlHrX71_P"
   },
   "source": [
    "Lưu train_word_embedding"
   ]
  },
  {
   "cell_type": "code",
   "execution_count": null,
   "metadata": {
    "id": "E2iHFWNhtj-t"
   },
   "outputs": [],
   "source": [
    "train_word_embedding = feature_extraction(train_df, model, max_length, batch_size, 'train_dataloader')\n",
    "print(train_word_embedding.shape)\n",
    "train_feature_df = pd.DataFrame(train_word_embedding)\n",
    "train_merge_df = pd.concat([train_feature_df, train_df['label']], axis=1)\n",
    "train_merge_df.to_csv('/content/drive/MyDrive/BML/train_feature.csv', index=False)"
   ]
  },
  {
   "cell_type": "markdown",
   "metadata": {
    "id": "Sqs5PYRe7-oa"
   },
   "source": [
    "Lưu test_word_embedding"
   ]
  },
  {
   "cell_type": "code",
   "execution_count": null,
   "metadata": {
    "colab": {
     "base_uri": "https://localhost:8080/"
    },
    "id": "M555Urws4VJC",
    "outputId": "6f6650ef-cd6b-4926-800e-745837416940"
   },
   "outputs": [
    {
     "name": "stderr",
     "output_type": "stream",
     "text": [
      "/usr/local/lib/python3.6/dist-packages/transformers/tokenization_utils_base.py:2179: FutureWarning: The `pad_to_max_length` argument is deprecated and will be removed in a future version, use `padding=True` or `padding='longest'` to pad to the longest sequence in the batch, or use `padding='max_length'` to pad to a max length. In this case, you can give a specific length with `max_length` (e.g. `max_length=45`) or leave max_length to None to pad to the maximal input size of the model (e.g. 512 for Bert).\n",
      "  FutureWarning,\n"
     ]
    },
    {
     "name": "stdout",
     "output_type": "stream",
     "text": [
      "cuda\n",
      "(3068, 768)\n"
     ]
    }
   ],
   "source": [
    "test_df = pd.read_csv('/content/drive/MyDrive/BML/test.csv')\n",
    "test_word_embedding = feature_extraction(test_df, model, max_length, batch_size, 'test_dataloader')\n",
    "print(test_word_embedding.shape)\n",
    "test_feature_df = pd.DataFrame(test_word_embedding)\n",
    "test_merge_df = pd.concat([test_feature_df, test_df['label']], axis=1)\n",
    "test_merge_df.to_csv('/content/drive/MyDrive/BML/test_feature.csv', index=False)"
   ]
  },
  {
   "cell_type": "markdown",
   "metadata": {
    "id": "HVabPvb88CDS"
   },
   "source": [
    "Lưu eval_word_embedding"
   ]
  },
  {
   "cell_type": "code",
   "execution_count": null,
   "metadata": {
    "colab": {
     "base_uri": "https://localhost:8080/"
    },
    "id": "torMWmuY5R4x",
    "outputId": "09078359-622c-4234-9bbb-6d9bf54b0757"
   },
   "outputs": [
    {
     "name": "stderr",
     "output_type": "stream",
     "text": [
      "/usr/local/lib/python3.6/dist-packages/transformers/tokenization_utils_base.py:2179: FutureWarning: The `pad_to_max_length` argument is deprecated and will be removed in a future version, use `padding=True` or `padding='longest'` to pad to the longest sequence in the batch, or use `padding='max_length'` to pad to a max length. In this case, you can give a specific length with `max_length` (e.g. `max_length=45`) or leave max_length to None to pad to the maximal input size of the model (e.g. 512 for Bert).\n",
      "  FutureWarning,\n"
     ]
    },
    {
     "name": "stdout",
     "output_type": "stream",
     "text": [
      "cuda\n",
      "(3068, 768)\n"
     ]
    }
   ],
   "source": [
    "eval_df = pd.read_csv('/content/drive/MyDrive/BML/eval.csv')\n",
    "eval_word_embedding = feature_extraction(eval_df, model, max_length, batch_size, 'test_dataloader')\n",
    "print(eval_word_embedding.shape)\n",
    "eval_feature_df = pd.DataFrame(eval_word_embedding)\n",
    "eval_merge_df = pd.concat([eval_feature_df, eval_df['label']], axis=1)\n",
    "eval_merge_df.to_csv('/content/drive/MyDrive/BML/eval_feature.csv', index=False)"
   ]
  },
  {
   "cell_type": "markdown",
   "metadata": {
    "id": "xcjHpCYf-FbI"
   },
   "source": [
    "## Trích xuất feature khi loại bỏ stop-words"
   ]
  },
  {
   "cell_type": "code",
   "execution_count": null,
   "metadata": {
    "colab": {
     "base_uri": "https://localhost:8080/"
    },
    "id": "pHSQxFyb-E-0",
    "outputId": "d0ace0cb-a21a-448b-d5d9-c65cf7bd5908"
   },
   "outputs": [
    {
     "name": "stdout",
     "output_type": "stream",
     "text": [
      "                                                 comment label  rate\n",
      "0                  vải đẹp  kiểu ih hình   rất hài lòng    POS     5\n",
      "1                              màn hình to và khá là hd    POS     5\n",
      "2      đóng gói sản phẩm rất đẹp và chắc chắn chất lư...   POS     5\n",
      "3                         san pham ok lm nha  cửa hàng     POS     4\n",
      "4                                      uniqlo tuyệt vời    POS     5\n",
      "...                                                  ...   ...   ...\n",
      "24538   cửa hàng  gấp váy cho vào túi chú ý  chút vì ...   NEU     3\n",
      "24539                                k hài lòng cho lắm    NEG     2\n",
      "24540  đẹp lắm  cửa hàng  ơi  mình mập cứ sợ không vừ...   POS     4\n",
      "24541                     chất lượng sản phẩm tuyệt vời    POS     5\n",
      "24542                             ko  được  sao nào hết    NEG     1\n",
      "\n",
      "[24543 rows x 3 columns]\n"
     ]
    }
   ],
   "source": [
    "# Loại bỏ stopwords\n",
    "sw_path = '/content/drive/MyDrive/BML/vietnamese-stopwords-dash.txt'\n",
    "with open(sw_path, mode='r', encoding='utf8') as f:\n",
    "  stop_words = f.read().split('\\n')\n",
    "\n",
    "train_df = pd.read_csv('/content/drive/MyDrive/BML/train.csv')\n",
    "test_df = pd.read_csv('/content/drive/MyDrive/BML/test.csv')\n",
    "eval_df = pd.read_csv('/content/drive/MyDrive/BML/eval.csv')\n",
    "print(train_df)\n",
    "train_df['comment'] = [remove_stop_words(i, stop_words) for i in train_df['comment']]\n",
    "test_df['comment'] = [remove_stop_words(i, stop_words) for i in test_df['comment']]\n",
    "eval_df['comment'] = [remove_stop_words(i, stop_words) for i in eval_df['comment']]\n",
    "\n"
   ]
  },
  {
   "cell_type": "code",
   "execution_count": null,
   "metadata": {
    "colab": {
     "base_uri": "https://localhost:8080/",
     "height": 410
    },
    "id": "IBpkQsa6BB4c",
    "outputId": "7d8cdf23-e029-49ca-a394-40ddcb015939"
   },
   "outputs": [
    {
     "data": {
      "text/html": [
       "<div>\n",
       "<style scoped>\n",
       "    .dataframe tbody tr th:only-of-type {\n",
       "        vertical-align: middle;\n",
       "    }\n",
       "\n",
       "    .dataframe tbody tr th {\n",
       "        vertical-align: top;\n",
       "    }\n",
       "\n",
       "    .dataframe thead th {\n",
       "        text-align: right;\n",
       "    }\n",
       "</style>\n",
       "<table border=\"1\" class=\"dataframe\">\n",
       "  <thead>\n",
       "    <tr style=\"text-align: right;\">\n",
       "      <th></th>\n",
       "      <th>comment</th>\n",
       "      <th>label</th>\n",
       "      <th>rate</th>\n",
       "    </tr>\n",
       "  </thead>\n",
       "  <tbody>\n",
       "    <tr>\n",
       "      <th>0</th>\n",
       "      <td>vải đẹp kiểu ih hình hài</td>\n",
       "      <td>POS</td>\n",
       "      <td>5</td>\n",
       "    </tr>\n",
       "    <tr>\n",
       "      <th>1</th>\n",
       "      <td>màn hình to hd</td>\n",
       "      <td>POS</td>\n",
       "      <td>5</td>\n",
       "    </tr>\n",
       "    <tr>\n",
       "      <th>2</th>\n",
       "      <td>đóng gói sản phẩm đẹp chắn chất sản phẩm tuyệt...</td>\n",
       "      <td>POS</td>\n",
       "      <td>5</td>\n",
       "    </tr>\n",
       "    <tr>\n",
       "      <th>3</th>\n",
       "      <td>san pham ok lm nha cửa hàng</td>\n",
       "      <td>POS</td>\n",
       "      <td>4</td>\n",
       "    </tr>\n",
       "    <tr>\n",
       "      <th>4</th>\n",
       "      <td>uniqlo tuyệt vời</td>\n",
       "      <td>POS</td>\n",
       "      <td>5</td>\n",
       "    </tr>\n",
       "    <tr>\n",
       "      <th>...</th>\n",
       "      <td>...</td>\n",
       "      <td>...</td>\n",
       "      <td>...</td>\n",
       "    </tr>\n",
       "    <tr>\n",
       "      <th>24538</th>\n",
       "      <td>cửa hàng gấp váy túi chút váy gập gãy nếp</td>\n",
       "      <td>NEU</td>\n",
       "      <td>3</td>\n",
       "    </tr>\n",
       "    <tr>\n",
       "      <th>24539</th>\n",
       "      <td>k hài lắm</td>\n",
       "      <td>NEG</td>\n",
       "      <td>2</td>\n",
       "    </tr>\n",
       "    <tr>\n",
       "      <th>24540</th>\n",
       "      <td>đẹp lắm cửa hàng mập sợ ngờ y cảm ơn cửa hàng</td>\n",
       "      <td>POS</td>\n",
       "      <td>4</td>\n",
       "    </tr>\n",
       "    <tr>\n",
       "      <th>24541</th>\n",
       "      <td>chất sản phẩm tuyệt vời</td>\n",
       "      <td>POS</td>\n",
       "      <td>5</td>\n",
       "    </tr>\n",
       "    <tr>\n",
       "      <th>24542</th>\n",
       "      <td>ko</td>\n",
       "      <td>NEG</td>\n",
       "      <td>1</td>\n",
       "    </tr>\n",
       "  </tbody>\n",
       "</table>\n",
       "<p>24543 rows × 3 columns</p>\n",
       "</div>"
      ],
      "text/plain": [
       "                                                 comment label  rate\n",
       "0                               vải đẹp kiểu ih hình hài   POS     5\n",
       "1                                         màn hình to hd   POS     5\n",
       "2      đóng gói sản phẩm đẹp chắn chất sản phẩm tuyệt...   POS     5\n",
       "3                            san pham ok lm nha cửa hàng   POS     4\n",
       "4                                       uniqlo tuyệt vời   POS     5\n",
       "...                                                  ...   ...   ...\n",
       "24538          cửa hàng gấp váy túi chút váy gập gãy nếp   NEU     3\n",
       "24539                                          k hài lắm   NEG     2\n",
       "24540      đẹp lắm cửa hàng mập sợ ngờ y cảm ơn cửa hàng   POS     4\n",
       "24541                            chất sản phẩm tuyệt vời   POS     5\n",
       "24542                                                 ko   NEG     1\n",
       "\n",
       "[24543 rows x 3 columns]"
      ]
     },
     "execution_count": 12,
     "metadata": {
      "tags": []
     },
     "output_type": "execute_result"
    }
   ],
   "source": [
    "train_df"
   ]
  },
  {
   "cell_type": "code",
   "execution_count": null,
   "metadata": {
    "colab": {
     "base_uri": "https://localhost:8080/"
    },
    "id": "ANQoNHQdABPq",
    "outputId": "00fb7be4-ddef-4640-cabe-26c5447d2f97"
   },
   "outputs": [
    {
     "name": "stderr",
     "output_type": "stream",
     "text": [
      "Truncation was not explicitly activated but `max_length` is provided a specific value, please use `truncation=True` to explicitly truncate examples to max length. Defaulting to 'longest_first' truncation strategy. If you encode pairs of sequences (GLUE-style) with the tokenizer you can select this strategy more precisely by providing a specific strategy to `truncation`.\n",
      "/usr/local/lib/python3.6/dist-packages/transformers/tokenization_utils_base.py:2022: FutureWarning: The `pad_to_max_length` argument is deprecated and will be removed in a future version, use `padding=True` or `padding='longest'` to pad to the longest sequence in the batch, or use `padding='max_length'` to pad to a max length. In this case, you can give a specific length with `max_length` (e.g. `max_length=45`) or leave max_length to None to pad to the maximal input size of the model (e.g. 512 for Bert).\n",
      "  FutureWarning,\n"
     ]
    },
    {
     "name": "stdout",
     "output_type": "stream",
     "text": [
      "cuda\n",
      "(24543, 768)\n"
     ]
    }
   ],
   "source": [
    "train_word_embedding = feature_extraction(train_df, model, max_length, batch_size, 'train_dataloader')\n",
    "print(train_word_embedding.shape)\n",
    "train_feature_df = pd.DataFrame(train_word_embedding)\n",
    "train_merge_df = pd.concat([train_feature_df, train_df['label']], axis=1)\n",
    "train_merge_df.to_csv('/content/drive/MyDrive/BML/train_feature_remove_sw.csv', index=False)"
   ]
  },
  {
   "cell_type": "code",
   "execution_count": null,
   "metadata": {
    "colab": {
     "base_uri": "https://localhost:8080/"
    },
    "id": "64GFuaPTAaI9",
    "outputId": "8f0c6f1b-e7c3-478c-f7c3-f8f54ecdfff0"
   },
   "outputs": [
    {
     "name": "stderr",
     "output_type": "stream",
     "text": [
      "/usr/local/lib/python3.6/dist-packages/transformers/tokenization_utils_base.py:2022: FutureWarning: The `pad_to_max_length` argument is deprecated and will be removed in a future version, use `padding=True` or `padding='longest'` to pad to the longest sequence in the batch, or use `padding='max_length'` to pad to a max length. In this case, you can give a specific length with `max_length` (e.g. `max_length=45`) or leave max_length to None to pad to the maximal input size of the model (e.g. 512 for Bert).\n",
      "  FutureWarning,\n"
     ]
    },
    {
     "name": "stdout",
     "output_type": "stream",
     "text": [
      "cuda\n",
      "(3068, 768)\n"
     ]
    }
   ],
   "source": [
    "test_df = pd.read_csv('/content/drive/MyDrive/BML/test.csv')\n",
    "test_word_embedding = feature_extraction(test_df, model, max_length, batch_size, 'test_dataloader')\n",
    "print(test_word_embedding.shape)\n",
    "test_feature_df = pd.DataFrame(test_word_embedding)\n",
    "test_merge_df = pd.concat([test_feature_df, test_df['label']], axis=1)\n",
    "test_merge_df.to_csv('/content/drive/MyDrive/BML/test_feature_remove_sw.csv', index=False)"
   ]
  },
  {
   "cell_type": "code",
   "execution_count": null,
   "metadata": {
    "colab": {
     "base_uri": "https://localhost:8080/"
    },
    "id": "V9WJQGG6AaGY",
    "outputId": "db7524b5-cd63-46ef-8f9b-3a0fd8ef1d5b"
   },
   "outputs": [
    {
     "name": "stderr",
     "output_type": "stream",
     "text": [
      "/usr/local/lib/python3.6/dist-packages/transformers/tokenization_utils_base.py:2022: FutureWarning: The `pad_to_max_length` argument is deprecated and will be removed in a future version, use `padding=True` or `padding='longest'` to pad to the longest sequence in the batch, or use `padding='max_length'` to pad to a max length. In this case, you can give a specific length with `max_length` (e.g. `max_length=45`) or leave max_length to None to pad to the maximal input size of the model (e.g. 512 for Bert).\n",
      "  FutureWarning,\n"
     ]
    },
    {
     "name": "stdout",
     "output_type": "stream",
     "text": [
      "cuda\n",
      "(3068, 768)\n"
     ]
    }
   ],
   "source": [
    "eval_df = pd.read_csv('/content/drive/MyDrive/BML/eval.csv')\n",
    "eval_word_embedding = feature_extraction(eval_df, model, max_length, batch_size, 'test_dataloader')\n",
    "print(eval_word_embedding.shape)\n",
    "eval_feature_df = pd.DataFrame(eval_word_embedding)\n",
    "eval_merge_df = pd.concat([eval_feature_df, eval_df['label']], axis=1)\n",
    "eval_merge_df.to_csv('/content/drive/MyDrive/BML/eval_feature_remove_sw.csv', index=False)"
   ]
  },
  {
   "cell_type": "markdown",
   "metadata": {
    "id": "z586VK5H8F9-"
   },
   "source": [
    "## 5. Thử nghiệm với các mô hình"
   ]
  },
  {
   "cell_type": "code",
   "execution_count": null,
   "metadata": {
    "id": "ktnOCFTcBStS"
   },
   "outputs": [],
   "source": [
    "# Load các feature\n",
    "import pandas as pd\n",
    "train_df = pd.read_csv('/content/drive/MyDrive/BML/train_feature.csv')\n",
    "test_df = pd.read_csv('/content/drive/MyDrive/BML/test_feature.csv')\n",
    "eval_df = pd.read_csv('/content/drive/MyDrive/BML/eval_feature.csv')\n",
    "\n",
    "X_train = train_df.values[:,:768]\n",
    "y_train = train_df.values[:,768]\n",
    "\n",
    "\n",
    "X_test = test_df.values[:,:768]\n",
    "y_test = test_df.values[:,768]\n",
    "\n",
    "X_eval = eval_df.values[:,:768]\n",
    "y_eval = eval_df.values[:,768]\n"
   ]
  },
  {
   "cell_type": "markdown",
   "metadata": {
    "id": "axuxbuPO8NtX"
   },
   "source": [
    "### 5.1. Mô hình kNN"
   ]
  },
  {
   "cell_type": "code",
   "execution_count": null,
   "metadata": {
    "colab": {
     "base_uri": "https://localhost:8080/"
    },
    "id": "nTChmsoQ6I37",
    "outputId": "69c573b2-a4b1-4655-87c9-5fbc142bb910"
   },
   "outputs": [
    {
     "name": "stdout",
     "output_type": "stream",
     "text": [
      "0.6499348109517601\n"
     ]
    }
   ],
   "source": [
    "from sklearn.neighbors import KNeighborsClassifier\n",
    "from sklearn.metrics import accuracy_score, f1_score\n",
    "knn = KNeighborsClassifier(n_neighbors=11)\n",
    "knn.fit(X_train, y_train)\n",
    "y_pred = knn.predict(X_test)\n",
    "score = accuracy_score(y_test, y_pred)\n",
    "print(score)"
   ]
  },
  {
   "cell_type": "markdown",
   "metadata": {
    "id": "IaxnJdZn8TrJ"
   },
   "source": [
    "### 5.2. Mô hình Logistic Regression"
   ]
  },
  {
   "cell_type": "code",
   "execution_count": null,
   "metadata": {
    "colab": {
     "base_uri": "https://localhost:8080/"
    },
    "id": "ULHZ3-gT8RX4",
    "outputId": "0a2416d7-32ce-481d-f321-3ee8e7c29716"
   },
   "outputs": [
    {
     "name": "stdout",
     "output_type": "stream",
     "text": [
      "0.6720990873533247\n"
     ]
    },
    {
     "name": "stderr",
     "output_type": "stream",
     "text": [
      "/usr/local/lib/python3.6/dist-packages/sklearn/linear_model/_logistic.py:940: ConvergenceWarning: lbfgs failed to converge (status=1):\n",
      "STOP: TOTAL NO. of ITERATIONS REACHED LIMIT.\n",
      "\n",
      "Increase the number of iterations (max_iter) or scale the data as shown in:\n",
      "    https://scikit-learn.org/stable/modules/preprocessing.html\n",
      "Please also refer to the documentation for alternative solver options:\n",
      "    https://scikit-learn.org/stable/modules/linear_model.html#logistic-regression\n",
      "  extra_warning_msg=_LOGISTIC_SOLVER_CONVERGENCE_MSG)\n"
     ]
    }
   ],
   "source": [
    "from sklearn.linear_model import LogisticRegression\n",
    "clf = LogisticRegression()\n",
    "clf.fit(X_train, y_train)\n",
    "y_pred = clf.predict(X_test)\n",
    "score = accuracy_score(y_test, y_pred)\n",
    "print(score)"
   ]
  },
  {
   "cell_type": "markdown",
   "metadata": {
    "id": "MjtJWn6h8qg1"
   },
   "source": [
    "### 5.3. Mô hình Decision Tree"
   ]
  },
  {
   "cell_type": "code",
   "execution_count": null,
   "metadata": {
    "colab": {
     "base_uri": "https://localhost:8080/"
    },
    "id": "s6FTFwgY8RUu",
    "outputId": "d0dd86b0-7d89-40bc-939c-113612691542"
   },
   "outputs": [
    {
     "name": "stdout",
     "output_type": "stream",
     "text": [
      "0.6414602346805737\n"
     ]
    }
   ],
   "source": [
    "from sklearn.tree import DecisionTreeClassifier\n",
    "clf = DecisionTreeClassifier(random_state=42, max_depth=5)\n",
    "clf.fit(X_train, y_train)\n",
    "y_pred = clf.predict(X_test)\n",
    "score = accuracy_score(y_test, y_pred)\n",
    "print(score)"
   ]
  },
  {
   "cell_type": "code",
   "execution_count": null,
   "metadata": {
    "colab": {
     "base_uri": "https://localhost:8080/"
    },
    "id": "2w9nk2djz29Q",
    "outputId": "d12b5b61-642f-4f38-8e04-028ebf3c9627"
   },
   "outputs": [
    {
     "name": "stdout",
     "output_type": "stream",
     "text": [
      "0.6867666232073012\n"
     ]
    }
   ],
   "source": [
    "from sklearn.ensemble import RandomForestClassifier\n",
    "clf = RandomForestClassifier(random_state=42)\n",
    "clf.fit(X_train, y_train)\n",
    "y_pred = clf.predict(X_test)\n",
    "score = accuracy_score(y_test, y_pred)\n",
    "print(score)"
   ]
  },
  {
   "cell_type": "markdown",
   "metadata": {
    "id": "l2ApouG-8uRB"
   },
   "source": [
    "### 5.4. Mô hình Naive Bayes"
   ]
  },
  {
   "cell_type": "code",
   "execution_count": null,
   "metadata": {
    "colab": {
     "base_uri": "https://localhost:8080/"
    },
    "id": "-nqEl5-p8RSP",
    "outputId": "ef4b9400-0ed2-410f-a467-f07f034a0040"
   },
   "outputs": [],
   "source": []
  },
  {
   "cell_type": "markdown",
   "metadata": {
    "id": "b9pnQAmn8zzl"
   },
   "source": [
    "### 5.5. Mô hình SVM"
   ]
  },
  {
   "cell_type": "code",
   "execution_count": null,
   "metadata": {
    "colab": {
     "base_uri": "https://localhost:8080/"
    },
    "id": "YmiqWO-88RPY",
    "outputId": "fc1005bf-6411-4dc3-ab5e-63bc6d54cb21"
   },
   "outputs": [
    {
     "name": "stdout",
     "output_type": "stream",
     "text": [
      "0.7438070404172099\n"
     ]
    }
   ],
   "source": [
    "from sklearn.svm import SVC\n",
    "from sklearn.model_selection import GridSearchCV \n",
    "from sklearn.pipeline import Pipeline\n",
    "\n",
    "def pipeline(X_train, y_train, X_test, y_test, C, gamma):\n",
    "  pipe = Pipeline([('svc', SVC(C=C, gamma=gamma, kernel='rbf'))])\n",
    "  pipe.fit(X_train, y_train)\n",
    "  y_pred = pipe.predict(X_test)\n",
    "  score = accuracy_score(y_test, y_pred)\n",
    "  print(score)\n",
    "\n",
    "pipeline(X_train, y_train, X_test, y_test, 1000, 0.1)"
   ]
  },
  {
   "cell_type": "code",
   "execution_count": null,
   "metadata": {
    "colab": {
     "base_uri": "https://localhost:8080/"
    },
    "id": "h5ar3JuLfhvL",
    "outputId": "de3f0786-713f-4834-a1e1-b1bb21119bc6"
   },
   "outputs": [
    {
     "name": "stdout",
     "output_type": "stream",
     "text": [
      "0.7513037809647979\n"
     ]
    }
   ],
   "source": [
    "from sklearn.svm import SVC\n",
    "from sklearn.model_selection import GridSearchCV \n",
    "from sklearn.pipeline import Pipeline\n",
    "from sklearn.feature_extraction.text import TfidfVectorizer\n",
    "\n",
    "train_df = pd.read_csv('/content/drive/MyDrive/BML/train.csv')\n",
    "test_df = pd.read_csv('/content/drive/MyDrive/BML/test.csv')\n",
    "eval_df = pd.read_csv('/content/drive/MyDrive/BML/eval.csv')\n",
    "\n",
    "X_train = [remove_stop_words(i, stop_words) for i in train_df['comment']]\n",
    "X_test = [remove_stop_words(i, stop_words) for i in test_df['comment']]\n",
    "y_train = train_df['label']\n",
    "y_test = test_df['label']\n",
    "def pipeline(X_train, y_train, X_test, y_test, C, gamma):\n",
    "  tfidf = TfidfVectorizer(analyzer='word', ngram_range=(1, 2))\n",
    "  pipe = Pipeline([('tfidf', tfidf),\n",
    "                          ('clf', SVC(C=C, gamma=gamma, kernel='rbf')),\n",
    "                          ])\n",
    "  pipe.fit(X_train, y_train)\n",
    "  y_pred = pipe.predict(X_test)\n",
    "  score = accuracy_score(y_test, y_pred)\n",
    "  print(score)\n",
    "\n",
    "pipeline(X_train, y_train, X_test, y_test, 10, 0.01)"
   ]
  },
  {
   "cell_type": "markdown",
   "metadata": {
    "id": "fqMCaCQX86a9"
   },
   "source": [
    "## 5.6. XGBoost\n"
   ]
  },
  {
   "cell_type": "code",
   "execution_count": null,
   "metadata": {
    "colab": {
     "base_uri": "https://localhost:8080/"
    },
    "id": "BW3cuf_u87M9",
    "outputId": "778ff66c-15ed-405d-fd9e-585a7b1cec14"
   },
   "outputs": [
    {
     "name": "stdout",
     "output_type": "stream",
     "text": [
      "Requirement already satisfied: xgboost in /usr/local/lib/python3.6/dist-packages (0.90)\n",
      "Requirement already satisfied: numpy in /usr/local/lib/python3.6/dist-packages (from xgboost) (1.19.4)\n",
      "Requirement already satisfied: scipy in /usr/local/lib/python3.6/dist-packages (from xgboost) (1.4.1)\n"
     ]
    }
   ],
   "source": [
    "!pip install xgboost"
   ]
  },
  {
   "cell_type": "code",
   "execution_count": null,
   "metadata": {
    "colab": {
     "base_uri": "https://localhost:8080/"
    },
    "id": "c4vKSZOyi3Ex",
    "outputId": "5ec5229a-f609-444f-e657-5dc59b6f5216"
   },
   "outputs": [
    {
     "name": "stdout",
     "output_type": "stream",
     "text": [
      "Accuracy: 0.6681877444589309\n"
     ]
    }
   ],
   "source": [
    "from xgboost import XGBClassifier\n",
    "xg = XGBClassifier()\n",
    "xg.fit(X_train, y_train)\n",
    "y_pred = xg.predict(X_test)\n",
    "score = accuracy_score(y_test, y_pred)\n",
    "print('Accuracy:', score)"
   ]
  },
  {
   "cell_type": "markdown",
   "metadata": {
    "id": "S3tzcDMfomy8"
   },
   "source": [
    "## 5.7. Stacking"
   ]
  },
  {
   "cell_type": "code",
   "execution_count": null,
   "metadata": {
    "colab": {
     "base_uri": "https://localhost:8080/",
     "height": 353
    },
    "id": "hK6xcfVHqK1j",
    "outputId": "b5fe8675-be47-4c46-b0cf-cc15f6e068d7"
   },
   "outputs": [
    {
     "name": "stdout",
     "output_type": "stream",
     "text": [
      "Collecting scikit-learn\n",
      "\u001b[?25l  Downloading https://files.pythonhosted.org/packages/30/aa/db462d385c56905b731403885454188683f63c86ea68900f6f7e7558b5fa/scikit_learn-0.24.0-cp36-cp36m-manylinux2010_x86_64.whl (22.2MB)\n",
      "\u001b[K     |████████████████████████████████| 22.2MB 1.7MB/s \n",
      "\u001b[?25hRequirement already satisfied, skipping upgrade: scipy>=0.19.1 in /usr/local/lib/python3.6/dist-packages (from scikit-learn) (1.4.1)\n",
      "Collecting threadpoolctl>=2.0.0\n",
      "  Downloading https://files.pythonhosted.org/packages/f7/12/ec3f2e203afa394a149911729357aa48affc59c20e2c1c8297a60f33f133/threadpoolctl-2.1.0-py3-none-any.whl\n",
      "Requirement already satisfied, skipping upgrade: numpy>=1.13.3 in /usr/local/lib/python3.6/dist-packages (from scikit-learn) (1.19.4)\n",
      "Requirement already satisfied, skipping upgrade: joblib>=0.11 in /usr/local/lib/python3.6/dist-packages (from scikit-learn) (1.0.0)\n",
      "Installing collected packages: threadpoolctl, scikit-learn\n",
      "  Found existing installation: scikit-learn 0.22.2.post1\n",
      "    Uninstalling scikit-learn-0.22.2.post1:\n",
      "      Successfully uninstalled scikit-learn-0.22.2.post1\n",
      "Successfully installed scikit-learn-0.24.0 threadpoolctl-2.1.0\n"
     ]
    },
    {
     "data": {
      "application/vnd.colab-display-data+json": {
       "pip_warning": {
        "packages": [
         "sklearn"
        ]
       }
      }
     },
     "metadata": {
      "tags": []
     },
     "output_type": "display_data"
    }
   ],
   "source": [
    "!pip install --upgrade scikit-learn"
   ]
  },
  {
   "cell_type": "code",
   "execution_count": null,
   "metadata": {
    "colab": {
     "base_uri": "https://localhost:8080/"
    },
    "id": "YeheNkqon9HW",
    "outputId": "69a7aaa4-33eb-4bc1-d8b2-38d66fd23819"
   },
   "outputs": [
    {
     "name": "stderr",
     "output_type": "stream",
     "text": [
      "/usr/local/lib/python3.6/dist-packages/sklearn/linear_model/_logistic.py:765: ConvergenceWarning: lbfgs failed to converge (status=1):\n",
      "STOP: TOTAL NO. of ITERATIONS REACHED LIMIT.\n",
      "\n",
      "Increase the number of iterations (max_iter) or scale the data as shown in:\n",
      "    https://scikit-learn.org/stable/modules/preprocessing.html\n",
      "Please also refer to the documentation for alternative solver options:\n",
      "    https://scikit-learn.org/stable/modules/linear_model.html#logistic-regression\n",
      "  extra_warning_msg=_LOGISTIC_SOLVER_CONVERGENCE_MSG)\n"
     ]
    },
    {
     "name": "stdout",
     "output_type": "stream",
     "text": [
      "0.6802477183833116\n"
     ]
    }
   ],
   "source": [
    "from sklearn.ensemble import StackingClassifier\n",
    "from sklearn.tree import DecisionTreeClassifier\n",
    "from sklearn.neighbors import KNeighborsClassifier\n",
    "from sklearn.linear_model import LogisticRegression\n",
    "from sklearn.svm import SVC\n",
    "from sklearn import metrics\n",
    "estimators = [('tree', DecisionTreeClassifier(random_state=42)),\n",
    "('knn', KNeighborsClassifier()), ('svc', SVC())]\n",
    "\n",
    "stack = StackingClassifier(estimators=estimators, \n",
    "                           final_estimator=LogisticRegression(random_state=42))\n",
    "stack.fit(X_train, y_train)\n",
    "y_pred=stack.predict(X_test)\n",
    "score_test = metrics.accuracy_score(y_test, y_pred)\n",
    "print(score_test)"
   ]
  },
  {
   "cell_type": "markdown",
   "metadata": {
    "id": "hv5ObobKzIis"
   },
   "source": [
    "## 5.8."
   ]
  },
  {
   "cell_type": "code",
   "execution_count": null,
   "metadata": {
    "colab": {
     "base_uri": "https://localhost:8080/"
    },
    "id": "fNEM-f8KpT59",
    "outputId": "30bfac83-5101-4bdc-ee59-759880cb3cfb"
   },
   "outputs": [
    {
     "name": "stdout",
     "output_type": "stream",
     "text": [
      "0.6626466753585397\n"
     ]
    }
   ],
   "source": [
    "from sklearn.ensemble import BaggingClassifier, AdaBoostClassifier, GradientBoostingClassifier\n",
    "\n",
    "bag = BaggingClassifier(DecisionTreeClassifier(random_state=42), \n",
    "                        max_samples=0.8, max_features=0.8, warm_start=True)\n",
    "bag.fit(X_train, y_train)\n",
    "y_pred = bag.predict(X_test)\n",
    "score_test = metrics.accuracy_score(y_test, y_pred)\n",
    "print(score_test)"
   ]
  },
  {
   "cell_type": "code",
   "execution_count": null,
   "metadata": {
    "colab": {
     "base_uri": "https://localhost:8080/"
    },
    "id": "qbDs3NMVz1iI",
    "outputId": "4da3aaba-d40c-4074-c5f5-b1ec04d49a53"
   },
   "outputs": [
    {
     "name": "stdout",
     "output_type": "stream",
     "text": [
      "0.6424380704041721\n"
     ]
    }
   ],
   "source": [
    "ada = AdaBoostClassifier(DecisionTreeClassifier(max_depth=20,random_state=42), \n",
    "                         n_estimators=10, learning_rate=1, random_state=42)\n",
    "ada.fit(X_train, y_train)\n",
    "y_pred = ada.predict(X_test)\n",
    "score_test = metrics.accuracy_score(y_test, y_pred)\n",
    "print(score_test)"
   ]
  },
  {
   "cell_type": "code",
   "execution_count": null,
   "metadata": {
    "colab": {
     "base_uri": "https://localhost:8080/"
    },
    "id": "jd3hJhXHz6Nx",
    "outputId": "1531a1cf-7cf6-456d-a0b7-9d80716f9a8e"
   },
   "outputs": [
    {
     "name": "stdout",
     "output_type": "stream",
     "text": [
      "0.6470013037809648\n"
     ]
    }
   ],
   "source": [
    "gra = GradientBoostingClassifier(loss='deviance', n_estimators=50, random_state=42)\n",
    "gra.fit(X_train, y_train)\n",
    "y_pred = gra.predict(X_test)\n",
    "score_test = metrics.accuracy_score(y_test, y_pred)\n",
    "print(score_test)"
   ]
  },
  {
   "cell_type": "code",
   "execution_count": null,
   "metadata": {
    "id": "wXP9_oPy38Xe"
   },
   "outputs": [],
   "source": []
  }
 ],
 "metadata": {
  "accelerator": "GPU",
  "colab": {
   "collapsed_sections": [],
   "name": "BML_Project.ipynb",
   "provenance": []
  },
  "kernelspec": {
   "display_name": "Python 3",
   "language": "python",
   "name": "python3"
  },
  "language_info": {
   "codemirror_mode": {
    "name": "ipython",
    "version": 3
   },
   "file_extension": ".py",
   "mimetype": "text/x-python",
   "name": "python",
   "nbconvert_exporter": "python",
   "pygments_lexer": "ipython3",
   "version": "3.8.3"
  }
 },
 "nbformat": 4,
 "nbformat_minor": 1
}
